{
  "cells": [
    {
      "cell_type": "markdown",
      "metadata": {
        "id": "view-in-github",
        "colab_type": "text"
      },
      "source": [
        "<a href=\"https://colab.research.google.com/github/ncfausti/Data-Science/blob/master/best_oct_15_2023_vgg_loss_tensorflow_2_12_trainCNN.ipynb\" target=\"_parent\"><img src=\"https://colab.research.google.com/assets/colab-badge.svg\" alt=\"Open In Colab\"/></a>"
      ]
    },
    {
      "cell_type": "markdown",
      "metadata": {
        "id": "eRahHE1xRxg2"
      },
      "source": [
        "# To use a model (*.h5) already created and saved to colab go here:\n",
        "\n",
        "loadModel.ipynb https://colab.research.google.com/drive/1aXIbdQztc77bY7CdazEd59oJijxDXHQM\n",
        "\n",
        "### Model naming format:  \n",
        "`Overview-Ind-Study/Overview/<loss function>-<batch size>-<epochs>-<learning rate>.h5`\n",
        "\n",
        "### Results naming format:\n",
        "`Overview-Ind-Study/Overview/newModel/<loss function>-<batch size>-<epochs>-<learning rate>.jpg`\n"
      ]
    },
    {
      "cell_type": "markdown",
      "metadata": {
        "id": "92UY6873edr4"
      },
      "source": [
        "### Import proper version of TF - 2.12"
      ]
    },
    {
      "cell_type": "code",
      "execution_count": 28,
      "metadata": {
        "colab": {
          "base_uri": "https://localhost:8080/"
        },
        "id": "fTUCLzvTiUVR",
        "outputId": "c28701c4-6624-4a91-d32e-e347ce18ca55"
      },
      "outputs": [
        {
          "output_type": "stream",
          "name": "stdout",
          "text": [
            "2.13.0\n"
          ]
        }
      ],
      "source": [
        "# when restarting or reopening this notebook, you must\n",
        "# uncomment the line below, run this cell, restart the notebook, then comment out\n",
        "# the line below again\n",
        "\n",
        "# !pip install --upgrade tensorflow-gpu\n",
        "# !pip install --upgrade tensorflow\n",
        "import tensorflow as tf\n",
        "print(tf.__version__)\n",
        "\n",
        "from tensorflow.keras.callbacks import EarlyStopping"
      ]
    },
    {
      "cell_type": "markdown",
      "metadata": {
        "id": "eZ2App94W1Iy"
      },
      "source": [
        "Define the new VGG loss function. Block5 returns higher level, lower block number returns more low-level features."
      ]
    },
    {
      "cell_type": "code",
      "execution_count": 2,
      "metadata": {
        "colab": {
          "base_uri": "https://localhost:8080/"
        },
        "id": "iPz2_YZeWn55",
        "outputId": "a56e3d5a-a402-404e-bd21-23f905b97fdf"
      },
      "outputs": [
        {
          "output_type": "stream",
          "name": "stdout",
          "text": [
            "Downloading data from https://storage.googleapis.com/tensorflow/keras-applications/vgg19/vgg19_weights_tf_dim_ordering_tf_kernels_notop.h5\n",
            "80134624/80134624 [==============================] - 5s 0us/step\n",
            "<keras.src.engine.functional.Functional object at 0x787172310820>\n"
          ]
        }
      ],
      "source": [
        "from tensorflow.keras.applications.vgg19 import VGG19\n",
        "from tensorflow.keras.models import Model\n",
        "import sys\n",
        "sys.path.append('/content/drive/MyDrive/Overview-Ind-Study/Overview/modules')\n",
        "\n",
        "# Define the VGG19 model\n",
        "vgg = VGG19(include_top=False, weights='imagenet')\n",
        "vgg.trainable = False\n",
        "\n",
        "# Select the layer to get features from\n",
        "feature_extractor = Model(inputs=vgg.input, outputs=vgg.get_layer('block5_conv4').output)\n",
        "\n",
        "# Define the perceptual loss\n",
        "def vgg_loss(y_true, y_pred):\n",
        "    return tf.reduce_mean(tf.square(feature_extractor(y_true) - feature_extractor(y_pred)))\n",
        "print(vgg)"
      ]
    },
    {
      "cell_type": "code",
      "execution_count": 32,
      "metadata": {
        "colab": {
          "base_uri": "https://localhost:8080/"
        },
        "id": "dgi2uYlFk1rU",
        "outputId": "920b3f71-4305-47ec-d532-ea8b9fb6d4da"
      },
      "outputs": [
        {
          "output_type": "stream",
          "name": "stdout",
          "text": [
            "Drive already mounted at /content/drive; to attempt to forcibly remount, call drive.mount(\"/content/drive\", force_remount=True).\n",
            "[Errno 2] No such file or directory: 'MY_DRIVE'\n",
            "/content\n",
            "/content/drive/MyDrive/Overview-Ind-Study/Overview/data/aug_x_train/\n",
            "/content/drive/MyDrive/Overview-Ind-Study/Overview/data/aug_y_train/\n",
            "22441\n"
          ]
        }
      ],
      "source": [
        "from google.colab import drive\n",
        "drive.mount('/content/drive')\n",
        "MY_DRIVE = '/content/drive/MyDrive'\n",
        "%cd MY_DRIVE\n",
        "\n",
        "X_TRAIN_PATH = f\"{MY_DRIVE}/Overview-Ind-Study/Overview/data/x_train/\"\n",
        "Y_TRAIN_PATH = f\"{MY_DRIVE}/Overview-Ind-Study/Overview/data/y_train/\"\n",
        "\n",
        "AUG_X_TRAIN_PATH = f\"{MY_DRIVE}/Overview-Ind-Study/Overview/data/aug_x_train/\"\n",
        "AUG_Y_TRAIN_PATH = f\"{MY_DRIVE}/Overview-Ind-Study/Overview/data/aug_y_train/\"\n",
        "X_TRAIN_PATH = AUG_X_TRAIN_PATH\n",
        "Y_TRAIN_PATH = AUG_Y_TRAIN_PATH\n",
        "\n",
        "# find the number of filenames that are in both, use this value as first\n",
        "# dimension of training/test tensors, i.e. number of training instances\n",
        "CMD_RESULT = !find $X_TRAIN_PATH $Y_TRAIN_PATH -printf '%P\\n' | sort | uniq -d | wc -l\n",
        "NUM_TRAINING_INSTANCES = int(CMD_RESULT[0])\n",
        "\n",
        "print(X_TRAIN_PATH)\n",
        "print(Y_TRAIN_PATH)\n",
        "print(NUM_TRAINING_INSTANCES)\n",
        "# assert NUM_TRAINING_INSTANCES > 500"
      ]
    },
    {
      "cell_type": "markdown",
      "metadata": {
        "id": "WTg26BtDyq_J"
      },
      "source": [
        "Check filesystem loaded correctly"
      ]
    },
    {
      "cell_type": "code",
      "execution_count": 33,
      "metadata": {
        "colab": {
          "base_uri": "https://localhost:8080/"
        },
        "id": "4zijZYkH0wd3",
        "outputId": "f1b749b3-63e2-4244-a7b2-a758ac5caa09"
      },
      "outputs": [
        {
          "output_type": "stream",
          "name": "stdout",
          "text": [
            "/content/drive/MyDrive/Overview-Ind-Study/Overview/data/y_train/953.jpg\n"
          ]
        }
      ],
      "source": [
        "!ls '/content/drive/MyDrive/Overview-Ind-Study/Overview/data/y_train/953.jpg'"
      ]
    },
    {
      "cell_type": "code",
      "execution_count": 40,
      "metadata": {
        "colab": {
          "base_uri": "https://localhost:8080/",
          "height": 343
        },
        "id": "0dekyxMB0udf",
        "outputId": "bb3801a2-fde2-4c9a-a6c6-14b3b0288cf4"
      },
      "outputs": [
        {
          "output_type": "stream",
          "name": "stderr",
          "text": [
            "WARNING:matplotlib.image:Clipping input data to the valid range for imshow with RGB data ([0..1] for floats or [0..255] for integers).\n",
            "WARNING:matplotlib.image:Clipping input data to the valid range for imshow with RGB data ([0..1] for floats or [0..255] for integers).\n"
          ]
        },
        {
          "output_type": "execute_result",
          "data": {
            "text/plain": [
              "<matplotlib.image.AxesImage at 0x7870047d0040>"
            ]
          },
          "metadata": {},
          "execution_count": 40
        },
        {
          "output_type": "display_data",
          "data": {
            "text/plain": [
              "<Figure size 640x480 with 1 Axes>"
            ],
            "image/png": "[encoded data removed]"
          },
          "metadata": {}
        }
      ],
      "source": [
        "from tensorflow.keras.applications.vgg19 import preprocess_input\n",
        "from tensorflow.keras.preprocessing.image import img_to_array, load_img\n",
        "import numpy as np\n",
        "import matplotlib.pyplot as plt\n",
        "\n",
        "# Load an image file\n",
        "# img = load_img('/content/drive/MyDrive/Overview-Ind-Study/Overview/data/y_train/953.jpg', target_size=(224, 224))\n",
        "\n",
        "# Load an augmented image file\n",
        "img = load_img('/content/drive/MyDrive/Overview-Ind-Study/Overview/data/aug_y_train/2-1402-.jpg', target_size=(224, 224))\n",
        "\n",
        "# Convert the image to an array\n",
        "img_array = img_to_array(img)\n",
        "\n",
        "# Expand dimensions so the image has a batch size\n",
        "img_array = np.expand_dims(img_array, axis=0)\n",
        "\n",
        "# Preprocess the image to make it suitable for VGG19\n",
        "img_array = preprocess_input(img_array)\n",
        "\n",
        "plt.subplot(121)\n",
        "plt.imshow(img_array[0], cmap='gray')\n",
        "# import imageio\n",
        "# image = imageio.imread('/content/drive/MyDrive/Overview-Ind-Study/Overview/data/y_train/953.jpg')\n",
        "# image = image / 255.0\n",
        "plt.subplot(121)\n",
        "plt.imshow(img_array[0], cmap=\"gray\")"
      ]
    },
    {
      "cell_type": "code",
      "execution_count": 41,
      "metadata": {
        "id": "aYNwtoIUh97Z"
      },
      "outputs": [],
      "source": [
        "from tensorflow.keras.models import Sequential\n",
        "from tensorflow.keras.layers import (Conv1D, Conv2D)\n",
        "\n",
        "import numpy as np\n",
        "import os\n",
        "from PIL import Image\n",
        "import os.path\n",
        "from os import path\n",
        "import tensorflow as tf\n",
        "from google.colab.patches import cv2_imshow\n",
        "from time import time\n",
        "import matplotlib.pyplot as plt\n",
        "import os\n",
        "from tensorflow.keras.models import Sequential\n",
        "from tensorflow.keras import layers\n",
        "from tensorflow.keras.callbacks import ModelCheckpoint\n",
        "\n",
        "from tensorflow.keras.layers import Convolution2D, Input\n",
        "import numpy as np\n",
        "from PIL import Image\n",
        "from tensorflow.keras.layers import Add\n",
        "from tensorflow.keras.layers import Concatenate\n",
        "# from keras.layers.normalization import BatchNormalization\n",
        "from tensorflow.keras.regularizers import l2\n",
        "from tensorflow.keras import backend as K\n",
        "# from tensorflow.keras.layers.convolutional import Convolution2D\n",
        "import six\n",
        "from tensorflow.keras.models import Model\n",
        "from tensorflow.keras.layers import (\n",
        "    Input,\n",
        "    Conv2DTranspose,\n",
        "    Activation,\n",
        "    UpSampling2D,\n",
        "    MaxPooling2D,\n",
        "    Dense,\n",
        "    Flatten\n",
        ")\n",
        "\n",
        "from tensorflow.keras.layers import (\n",
        "    Conv2D,\n",
        "    MaxPooling2D,\n",
        "    AveragePooling2D\n",
        ")\n",
        "from datetime import datetime"
      ]
    },
    {
      "cell_type": "code",
      "execution_count": 42,
      "metadata": {
        "id": "VpNTCHdUmID_"
      },
      "outputs": [],
      "source": [
        "from tensorflow.keras.applications.vgg19 import preprocess_input\n",
        "from tensorflow.keras.preprocessing.image import img_to_array, load_img\n",
        "import numpy as np\n",
        "\n",
        "# Load an image file\n",
        "# img = load_img('image.jpg', target_size=(224, 224))\n",
        "\n",
        "# # Convert the image to an array\n",
        "# img_array = img_to_array(img)\n",
        "\n",
        "# # Expand dimensions so the image has a batch size\n",
        "# img_array = np.expand_dims(img_array, axis=0)\n",
        "\n",
        "# # Preprocess the image to make it suitable for VGG19\n",
        "# img_array = preprocess_input(img_array)\n",
        "\n",
        "# # ==================================================================\n",
        "\n",
        "def extract_data_testing(xPath, yPath):\n",
        "  X, y = np.zeros((12,512,512,3)), np.zeros((12,512,512,3))\n",
        "\n",
        "  index = 0\n",
        "  for file in os.listdir(xPath):\n",
        "    if path.exists(xPath + file):\n",
        "        print('path exists: ')\n",
        "        img = Image.open(xPath + file).convert('RGB')\n",
        "        imgArray = np.asarray(img, dtype='uint8')\n",
        "        imgArray =  imgArray / 255.0\n",
        "        X[index] = imgArray\n",
        "\n",
        "        img = Image.open(yPath + file).convert('RGB')\n",
        "        imgArray = np.asarray(img, dtype='uint8')\n",
        "        imgArray =  imgArray / 255.0\n",
        "        y[index] = imgArray\n",
        "\n",
        "        index += 1\n",
        "  return X, y"
      ]
    },
    {
      "cell_type": "markdown",
      "metadata": {
        "id": "HFkvINthZu5i"
      },
      "source": [
        "# Comment out the last line in the next cell to create a new model"
      ]
    },
    {
      "cell_type": "code",
      "execution_count": 43,
      "metadata": {
        "id": "HTX74WTgYofF"
      },
      "outputs": [],
      "source": [
        "\n",
        "# My baseline, after using all images and keeping other hyperparameters the same\n",
        "# loaded_model = load_model(f\"{MY_DRIVE}/Overview-Ind-Study/Overview/trained-on-all-images-mar-25-2022.h5\")\n",
        "\n",
        "loaded_model = None\n",
        "# Best so far\n",
        "# loaded_model = load_model(f\"{MY_DRIVE}/Overview-Ind-Study/Overview/mse-8-15-0.0005.h5\")"
      ]
    },
    {
      "cell_type": "code",
      "execution_count": 44,
      "metadata": {
        "colab": {
          "base_uri": "https://localhost:8080/"
        },
        "id": "up-NhiCylCpM",
        "outputId": "b2aa0503-e236-4615-9420-8542208da318"
      },
      "outputs": [
        {
          "output_type": "stream",
          "name": "stdout",
          "text": [
            "Found 12 files belonging to 1 classes.\n",
            "Found 12 files belonging to 1 classes.\n"
          ]
        }
      ],
      "source": [
        "X_TEST_PATH = f\"{MY_DRIVE}/Overview-Ind-Study/Overview/data/x_test/\"\n",
        "Y_TEST_PATH = f\"{MY_DRIVE}/Overview-Ind-Study/Overview/data/y_test/\"\n",
        "test_labels_dataset = tf.keras.preprocessing.image_dataset_from_directory(Y_TEST_PATH, label_mode=None, image_size=(512, 512), shuffle=False)\n",
        "test_dataset = tf.keras.preprocessing.image_dataset_from_directory(X_TEST_PATH, label_mode = None, image_size=(512, 512), shuffle=False)\n",
        "\n",
        "# zip x_train, y_train (input image and desired output image) into a tuple of datasets\n",
        "# this will be the input\n",
        "zipped_test_dataset = tf.data.Dataset.zip((test_dataset, test_labels_dataset))\n",
        "\n",
        "if loaded_model:\n",
        "    # X_test, y_test = extract_data_testing(X_TEST_PATH, Y_TEST_PATH)\n",
        "\n",
        "    print('predicting...')\n",
        "    # score = loaded_model.predict(test_dataset)\n",
        "    # make prediction  n\n",
        "    out_array = loaded_model.predict(test_dataset)\n",
        "    out_array = out_array.astype(np.float32) * 255.\n",
        "    out_array = np.clip(out_array, 0, 255).astype('uint8')\n",
        "\n",
        "    num, rows, cols, channels = out_array.shape\n",
        "    print(out_array.shape)\n",
        "    for n in range(num):\n",
        "        filename = str(n) + \".jpg\"\n",
        "        # save prediction\n",
        "        out_img = Image.fromarray(out_array[n]).convert('L') # convert to black and white\n",
        "        out_img.save(f\"{MY_DRIVE}/Overview-Ind-Study/Overview/out_\" + str(time()) + filename, format=\"JPEG\")\n",
        "\n",
        "        print(out_img)\n",
        "\n",
        "\n",
        "\n",
        "    loaded_model.evaluate()\n"
      ]
    },
    {
      "cell_type": "code",
      "execution_count": 45,
      "metadata": {
        "id": "xaiPFoXVBdx_"
      },
      "outputs": [],
      "source": [
        "from tensorflow.keras.utils import image_dataset_from_directory"
      ]
    },
    {
      "cell_type": "markdown",
      "metadata": {
        "id": "TWl-gmEhqwW4"
      },
      "source": [
        "### New Data Loading (23 May 2022)"
      ]
    },
    {
      "cell_type": "code",
      "execution_count": 46,
      "metadata": {
        "colab": {
          "base_uri": "https://localhost:8080/"
        },
        "id": "deWm6iXAqvBp",
        "outputId": "480dafbf-35af-4064-87c0-30896c5b49d1"
      },
      "outputs": [
        {
          "output_type": "stream",
          "name": "stdout",
          "text": [
            "Found 22440 files belonging to 1 classes.\n",
            "Found 22440 files belonging to 1 classes.\n"
          ]
        }
      ],
      "source": [
        "# The generator that you are passing to the fit sequence must generate a tuple (img1, img2). You can use tf.data.Dataset.zip to achieve the desired shape :\n",
        "\n",
        "# normalize\n",
        "def process(image):\n",
        "    img = tf.cast(image ,tf.float32)\n",
        "    # imgArray = np.asarray(img, dtype='uint8')\n",
        "    imgArray =  img / 255.0\n",
        "    return imgArray\n",
        "\n",
        "\n",
        "labels_dataset = tf.keras.preprocessing.image_dataset_from_directory(Y_TRAIN_PATH, label_mode=None, image_size=(512, 512), shuffle=False)\n",
        "labels_dataset = labels_dataset.map(process)\n",
        "\n",
        "train_dataset = tf.keras.preprocessing.image_dataset_from_directory(X_TRAIN_PATH, label_mode = None, image_size=(512, 512), shuffle=False)\n",
        "train_dataset = train_dataset.map(process)\n",
        "\n",
        "# zip x_train, y_train (input image and desired output image) into a tuple of datasets\n",
        "zipped_train_dataset = tf.data.Dataset.zip((train_dataset, labels_dataset))"
      ]
    },
    {
      "cell_type": "code",
      "execution_count": null,
      "metadata": {
        "id": "RLtwMnpifBIP"
      },
      "outputs": [],
      "source": [
        "# plt.figure(figsize=(10, 10))\n",
        "# class_names = labels_dataset.class_names\n",
        "\n",
        "\n",
        "# for images, labels in zipped_train_dataset.take(1):\n",
        "#     for i in range(3):\n",
        "#         # ax = plt.subplot(6, 6, i + 1)\n",
        "#         img = images[i].numpy().astype(\"float\")\n",
        "#         print(img)\n",
        "#         # plt.imshow(img)\n",
        "#         # plt.title(class_names[labels[i]])|\n",
        "#         # plt.axis(\"off\")\n",
        "# plt.figure(figsize=(10, 10))\n",
        "# for images, labels in zipped_train_dataset.take(1):\n",
        "#     for i in range(3):\n",
        "#         # ax = plt.subplot(6, 6, i + 1)\n",
        "#         img = labels[i].numpy().astype(\"float\")\n",
        "#         print(img)\n",
        "#         # plt.imshow(img)\n",
        "#         # plt.axis(\"off\")"
      ]
    },
    {
      "cell_type": "code",
      "execution_count": null,
      "metadata": {
        "id": "R7QOgIqL9GGm"
      },
      "outputs": [],
      "source": [
        "# What am I doing each time?\n",
        "# shuffling between combinations of (loss_fn={\"mse\"|\"\"|\"\"},\n",
        "# batch_size={8|16|32}, epochs={1|3|5|10|15|20|25|50|100} )\n",
        "# These are the values to perform a search on\n",
        "\n",
        "# LOSS_FN = vgg_loss\n",
        "\n",
        "# 8 16 32\n",
        "# BATCH_SIZE = 16\n",
        "\n",
        "# 10, 20, 50, 100, 200, 500, 1000\n",
        "# EPOCHS = 10\n",
        "\n",
        "# 0.0001 0.0003 .0005\n",
        "# 0003 vs 00025 vs 00035\n",
        "# LEARNING_RATE = 0.0003\n",
        "\n",
        "\n",
        "#experiments:\n",
        "# A [loss=mse, batch=8, epochs=10] lr= 0.0001 vs lr = 0.0003\n",
        "# take best, use in next comparison, i.e. a tree of best settings until\n",
        "# finally getting all the optimal settings\n",
        "# Winner of A vs .0005\n",
        "# B [loss=mse, batch=8, epochs=10] lr=<winner of A> vs lr = 0.0005\n",
        "# Winner of A & B vs .001\n",
        "#experiments: [loss=mse, batch=8, epochs=10] lr= 0.0003 vs lr = 0.0005\n",
        "# compare agianst marissa's results, my baseline results with new data loading\n",
        "\n",
        "\n",
        "LOSS_FN = vgg_loss\n",
        "\n",
        "# 8 16 32\n",
        "BATCH_SIZE = 16\n",
        "\n",
        "# 10, 20, 50, 100, 200, 500, 1000\n",
        "EPOCHS = 100\n",
        "\n",
        "# 0.0001 0.0003 .0005\n",
        "# 0003 vs 00025 vs 00035\n",
        "LEARNING_RATE = 0.0003\n",
        "ROW_AXIS = 1\n",
        "COL_AXIS = 2\n",
        "CHANNEL_AXIS = 3\n",
        "\n",
        "def _shortcut(input, residual):\n",
        "    \"\"\"Adds a shortcut between input and residual block and merges them with \"sum\"\n",
        "    \"\"\"\n",
        "    # Expand channels of shortcut to match residual.\n",
        "    # Stride appropriately to match residual (width, height)\n",
        "    # Should be int if network architecture is correctly configured.\n",
        "    input_shape = K.int_shape(input)\n",
        "    residual_shape = K.int_shape(residual)\n",
        "    stride_width = int(round(input_shape[ROW_AXIS] / residual_shape[ROW_AXIS]))\n",
        "    stride_height = int(round(input_shape[COL_AXIS] / residual_shape[COL_AXIS]))\n",
        "    equal_channels = input_shape[CHANNEL_AXIS] == residual_shape[CHANNEL_AXIS]\n",
        "\n",
        "    shortcut = input\n",
        "    # 1 X 1 conv if shape is different. Else identity.\n",
        "    if stride_width > 1 or stride_height > 1 or not equal_channels:\n",
        "        shortcut = Conv2D(filters=residual_shape[CHANNEL_AXIS],\n",
        "                          kernel_size=(1, 1),\n",
        "                          strides=(stride_width, stride_height),\n",
        "                          padding=\"valid\",\n",
        "                          kernel_initializer=\"he_normal\",\n",
        "                          kernel_regularizer=l2(0.0001))(input)\n",
        "\n",
        "    return Concatenate()([shortcut, residual])\n",
        "\n",
        "\n",
        "def generate_model():\n",
        "  filters = [64, 128, 256, 512, 1024]\n",
        "  poolsize = 2 # (2,2)\n",
        "  kernelsize = 3 # (3,3)\n",
        "  x = Input(shape=(512,512,3))\n",
        "  a = Convolution2D(filters[0], kernelsize, activation=\"relu\", padding=\"same\")(x)\n",
        "  b = MaxPooling2D(pool_size=poolsize, strides=2)(a)\n",
        "  c = Convolution2D(filters[1], kernelsize, activation=\"relu\", padding=\"same\")(b)\n",
        "  d = MaxPooling2D(pool_size=poolsize, strides=2)(c)\n",
        "  e = Convolution2D(filters[2], kernelsize, activation=\"relu\", padding=\"same\")(d)\n",
        "  f = MaxPooling2D(pool_size=poolsize, strides=2)(e)\n",
        "  g = Convolution2D(filters[3], kernelsize, activation=\"relu\", padding=\"same\")(f)\n",
        "  h = MaxPooling2D(pool_size=poolsize, strides=2)(g)\n",
        "  i = Convolution2D(filters[4], kernelsize, activation=\"relu\", padding=\"same\")(h)\n",
        "  j = UpSampling2D(size=poolsize, interpolation='nearest')(i)\n",
        "  j1 = _shortcut(g, j) # combine the saved convolutional layer and upsampling\n",
        "  k = Convolution2D(3, kernelsize, activation=\"relu\", padding=\"same\")(j1)\n",
        "  l = UpSampling2D(size=poolsize, interpolation='nearest')(k)\n",
        "  l1 = _shortcut(e, l)\n",
        "  m = Convolution2D(3, kernelsize, activation=\"relu\", padding=\"same\")(l1)\n",
        "  n = UpSampling2D(size=poolsize, interpolation='nearest')(m)\n",
        "  l1 = _shortcut(c, n)\n",
        "  o = Convolution2D(3, kernelsize, activation=\"relu\", padding=\"same\")(n)\n",
        "  p = UpSampling2D(size=poolsize, interpolation='nearest')(o)\n",
        "  p1 = _shortcut(a, p)\n",
        "  q = Convolution2D(3, kernelsize, activation=\"relu\", padding=\"same\")(p1)\n",
        "  r = Convolution2D(3, poolsize, activation=\"linear\", padding=\"same\")(q)\n",
        "  model = Model(inputs=x, outputs = r)\n",
        "  adam = tf.keras.optimizers.Adam(lr=LEARNING_RATE)\n",
        "#   model.compile(optimizer=adam, loss=LOSS_FN, metrics=['accuracy'])\n",
        "  model.compile(optimizer=adam, loss=LOSS_FN, metrics=[tf.keras.metrics.MeanSquaredError()])\n",
        "\n",
        "  return model\n",
        "\n",
        "\n",
        "def extract_data_testing(xPath, yPath):\n",
        "  X, y = np.zeros((12,512,512,3)), np.zeros((12,512,512,3))\n",
        "\n",
        "  index = 0\n",
        "  for file in os.listdir(xPath):\n",
        "    if path.exists(xPath + file):\n",
        "        img = Image.open(xPath + file).convert('RGB')\n",
        "        imgArray = np.asarray(img, dtype='uint8')\n",
        "        imgArray =  imgArray / 255.0\n",
        "        X[index] = imgArray\n",
        "\n",
        "        img = Image.open(yPath + file).convert('RGB')\n",
        "        imgArray = np.asarray(img, dtype='uint8')\n",
        "        imgArray =  imgArray / 255.0\n",
        "        y[index] = imgArray\n",
        "\n",
        "        index += 1\n",
        "  return X, y\n",
        "\n",
        "# Setup the model\n",
        "model = generate_model()\n",
        "model.summary()\n",
        "\n",
        "extras = '-'.join(['early-stop'])\n",
        "\n",
        "# name the model using its hyper-params\n",
        "model_name = f\"{LOSS_FN}-{str(BATCH_SIZE)}-{str(EPOCHS)}-{str(LEARNING_RATE)}-{extras}\"\n",
        "\n",
        "\n",
        "\n",
        "dataset_size = 702 #76\n",
        "\n",
        "# Calculate the number of training and validation elements\n",
        "train_size = int(0.7 * dataset_size)\n",
        "val_size = dataset_size - train_size\n",
        "\n",
        "# Split the dataset into training and validation datasets\n",
        "train_dataset = zipped_train_dataset.take(train_size)\n",
        "val_dataset = zipped_train_dataset.skip(train_size)"
      ]
    },
    {
      "cell_type": "code",
      "execution_count": 48,
      "metadata": {
        "id": "_-Jh0SQ_wO4x",
        "colab": {
          "base_uri": "https://localhost:8080/"
        },
        "outputId": "81533720-8ee6-43ea-e754-5a95efce346e"
      },
      "outputs": [
        {
          "output_type": "stream",
          "name": "stderr",
          "text": [
            "/usr/local/lib/python3.10/dist-packages/keras/src/engine/training.py:3000: UserWarning: You are saving your model as an HDF5 file via `model.save()`. This file format is considered legacy. We recommend using instead the native Keras format, e.g. `model.save('my_model.keras')`.\n",
            "  saving_api.save_model(\n"
          ]
        }
      ],
      "source": [
        "# Create folder using timestamp, save model and output images there\n",
        "now = datetime.now()\n",
        "\n",
        "folder = f\"{MY_DRIVE}/Overview-Ind-Study/Overview/models/{now}\"\n",
        "\n",
        "os.makedirs(folder, exist_ok=False)\n",
        "\n",
        "model.save(f\"{folder}/{model_name}.h5\")"
      ]
    },
    {
      "cell_type": "code",
      "execution_count": 49,
      "metadata": {
        "colab": {
          "base_uri": "https://localhost:8080/"
        },
        "id": "gphW_ytgQa33",
        "outputId": "0ee669cd-5ab8-4840-b486-82aabbe27522"
      },
      "outputs": [
        {
          "output_type": "stream",
          "name": "stdout",
          "text": [
            "1/1 [==============================] - 0s 360ms/step - loss: 61.1741 - mean_squared_error: 0.0448\n"
          ]
        }
      ],
      "source": [
        "# extract test images\n",
        "X_test, y_test = extract_data_testing(X_TEST_PATH, Y_TEST_PATH)\n",
        "\n",
        "# evaluate model on test images\n",
        "score = model.evaluate(X_test, y_test)\n",
        "\n",
        "# test_labels_dataset = tf.keras.preprocessing.image_dataset_from_directory(Y_TEST_PATH, label_mode=None, image_size=(512, 512), shuffle=False)\n",
        "# test_labels_dataset = test_labels_dataset.map(process)\n",
        "\n",
        "# test_dataset = tf.keras.preprocessing.image_dataset_from_directory(X_TEST_PATH, label_mode = None, image_size=(512, 512), shuffle=False)\n",
        "# test_dataset = test_dataset.map(process)\n",
        "\n",
        "# # zip x_train, y_train (input image and desired output image) into a tuple of datasets\n",
        "# # this will be the input\n",
        "# zipped_test_dataset = tf.data.Dataset.zip((test_dataset, test_labels_dataset))\n",
        "# score = model.evaluate(zipped_test_dataset)"
      ]
    },
    {
      "cell_type": "code",
      "execution_count": 50,
      "metadata": {
        "colab": {
          "base_uri": "https://localhost:8080/"
        },
        "id": "Iq2PTYAK2aLb",
        "outputId": "fe58c82e-e266-4fbb-ba49-b0d10faf1681"
      },
      "outputs": [
        {
          "output_type": "stream",
          "name": "stdout",
          "text": [
            "[61.17409133911133, 0.04482254758477211]\n"
          ]
        }
      ],
      "source": [
        "print(score)"
      ]
    },
    {
      "cell_type": "code",
      "execution_count": 17,
      "metadata": {
        "colab": {
          "base_uri": "https://localhost:8080/"
        },
        "id": "-9eR9kGoz-5S",
        "outputId": "58e1f470-fb57-4087-8813-28701088ce39"
      },
      "outputs": [
        {
          "output_type": "stream",
          "name": "stdout",
          "text": [
            "scoring...\n",
            "['loss', 'mean_squared_error'] [0.23642224073410034, 0.06803842633962631]\n",
            "1/1 [==============================] - 0s 199ms/step\n",
            "<function vgg_loss at 0x78717e2cc790>-16-100-0.0003-early-stop\n"
          ]
        }
      ],
      "source": [
        "import matplotlib.pyplot as plt\n",
        "%matplotlib inline\n",
        "from google.colab.patches import cv2_imshow\n",
        "from datetime import datetime\n",
        "\n",
        "print(\"scoring...\")\n",
        "print (model.metrics_names, score)\n",
        "X_test, y_test = extract_data_testing(X_TEST_PATH, Y_TEST_PATH)\n",
        "\n",
        "# make prediction n\n",
        "out_array = model.predict(X_test)\n",
        "out_array = out_array.astype(np.float32) * 255.\n",
        "out_array = np.clip(out_array, 0, 255).astype('uint8')\n",
        "\n",
        "\n",
        "num, rows, cols, channels = out_array.shape\n",
        "print(model_name)\n",
        "for n in range(num):\n",
        "    filename = str(n) + \".jpg\"\n",
        "    # save prediction\n",
        "    out_img = Image.fromarray(out_array[n]).convert('L') # convert to black and white\n",
        "    # ts = str(datetime.now())\n",
        "    out_img.save(f\"{folder}/{model_name}_{filename}\", format=\"JPEG\")\n",
        "    # out_img.show()"
      ]
    },
    {
      "cell_type": "code",
      "execution_count": 18,
      "metadata": {
        "colab": {
          "base_uri": "https://localhost:8080/",
          "height": 176
        },
        "id": "k6Er8WKb2ITx",
        "outputId": "c2b2ea4b-219f-45f9-9501-8d5de616048b"
      },
      "outputs": [
        {
          "output_type": "error",
          "ename": "NameError",
          "evalue": "ignored",
          "traceback": [
            "\u001b[0;31m---------------------------------------------------------------------------\u001b[0m",
            "\u001b[0;31mNameError\u001b[0m                                 Traceback (most recent call last)",
            "\u001b[0;32m<ipython-input-18-820f85b80291>\u001b[0m in \u001b[0;36m<cell line: 1>\u001b[0;34m()\u001b[0m\n\u001b[0;32m----> 1\u001b[0;31m \u001b[0mprint\u001b[0m\u001b[0;34m(\u001b[0m\u001b[0mhistory\u001b[0m\u001b[0;34m.\u001b[0m\u001b[0mhistory\u001b[0m\u001b[0;34m)\u001b[0m\u001b[0;34m\u001b[0m\u001b[0;34m\u001b[0m\u001b[0m\n\u001b[0m",
            "\u001b[0;31mNameError\u001b[0m: name 'history' is not defined"
          ]
        }
      ],
      "source": [
        "print(history.history)"
      ]
    },
    {
      "cell_type": "code",
      "execution_count": 51,
      "metadata": {
        "colab": {
          "base_uri": "https://localhost:8080/",
          "height": 658
        },
        "id": "N02815pARg4b",
        "outputId": "1ea0eb5f-5553-463c-92d2-2ed88c3bfeca"
      },
      "outputs": [
        {
          "output_type": "error",
          "ename": "KeyError",
          "evalue": "ignored",
          "traceback": [
            "\u001b[0;31m---------------------------------------------------------------------------\u001b[0m",
            "\u001b[0;31mKeyError\u001b[0m                                  Traceback (most recent call last)",
            "\u001b[0;32m<ipython-input-51-a96a61911571>\u001b[0m in \u001b[0;36m<cell line: 3>\u001b[0;34m()\u001b[0m\n\u001b[1;32m      1\u001b[0m \u001b[0;31m# Plot training & validation accuracy values\u001b[0m\u001b[0;34m\u001b[0m\u001b[0;34m\u001b[0m\u001b[0m\n\u001b[1;32m      2\u001b[0m \u001b[0mplt\u001b[0m\u001b[0;34m.\u001b[0m\u001b[0mplot\u001b[0m\u001b[0;34m(\u001b[0m\u001b[0mhistory\u001b[0m\u001b[0;34m.\u001b[0m\u001b[0mhistory\u001b[0m\u001b[0;34m[\u001b[0m\u001b[0;34m'mean_squared_error'\u001b[0m\u001b[0;34m]\u001b[0m\u001b[0;34m)\u001b[0m\u001b[0;34m\u001b[0m\u001b[0;34m\u001b[0m\u001b[0m\n\u001b[0;32m----> 3\u001b[0;31m \u001b[0mplt\u001b[0m\u001b[0;34m.\u001b[0m\u001b[0mplot\u001b[0m\u001b[0;34m(\u001b[0m\u001b[0mhistory\u001b[0m\u001b[0;34m.\u001b[0m\u001b[0mhistory\u001b[0m\u001b[0;34m[\u001b[0m\u001b[0;34m'val_mean_squared_error'\u001b[0m\u001b[0;34m]\u001b[0m\u001b[0;34m)\u001b[0m\u001b[0;34m\u001b[0m\u001b[0;34m\u001b[0m\u001b[0m\n\u001b[0m\u001b[1;32m      4\u001b[0m \u001b[0mplt\u001b[0m\u001b[0;34m.\u001b[0m\u001b[0mtitle\u001b[0m\u001b[0;34m(\u001b[0m\u001b[0;34m'Model mse'\u001b[0m\u001b[0;34m)\u001b[0m\u001b[0;34m\u001b[0m\u001b[0;34m\u001b[0m\u001b[0m\n\u001b[1;32m      5\u001b[0m \u001b[0mplt\u001b[0m\u001b[0;34m.\u001b[0m\u001b[0mylabel\u001b[0m\u001b[0;34m(\u001b[0m\u001b[0;34m'mse'\u001b[0m\u001b[0;34m)\u001b[0m\u001b[0;34m\u001b[0m\u001b[0;34m\u001b[0m\u001b[0m\n",
            "\u001b[0;31mKeyError\u001b[0m: 'val_mean_squared_error'"
          ]
        },
        {
          "output_type": "display_data",
          "data": {
            "text/plain": [
              "<Figure size 640x480 with 1 Axes>"
            ],
            "image/png": "[encoded data removed]"
          },
          "metadata": {}
        }
      ],
      "source": [
        "# Plot training & validation accuracy values\n",
        "plt.plot(history.history['mean_squared_error'])\n",
        "plt.plot(history.history['val_mean_squared_error'])\n",
        "plt.title('Model mse')\n",
        "plt.ylabel('mse')\n",
        "plt.xlabel('Epoch')\n",
        "plt.legend(['Train', 'Val'], loc='upper left')\n",
        "plt.show()\n",
        "\n",
        "# Plot training & validation loss values\n",
        "plt.plot(history.history['loss'])\n",
        "plt.plot(history.history['val_loss'])\n",
        "plt.title('Model loss')\n",
        "plt.ylabel('Loss')\n",
        "plt.xlabel('Epoch')\n",
        "plt.legend(['Train', 'Val'], loc='upper left')\n",
        "plt.show()"
      ]
    },
    {
      "cell_type": "markdown",
      "metadata": {
        "id": "x_YOKn6mnscJ"
      },
      "source": [
        "-------------------------------------------\n",
        "VGG_LOSS\n",
        "-------------------------------------------"
      ]
    },
    {
      "cell_type": "code",
      "execution_count": 54,
      "metadata": {
        "colab": {
          "base_uri": "https://localhost:8080/"
        },
        "id": "zcYj9FnnoeCU",
        "outputId": "0f575011-e954-4b80-e5e0-eca25f981843"
      },
      "outputs": [
        {
          "output_type": "stream",
          "name": "stdout",
          "text": [
            "Drive already mounted at /content/drive; to attempt to forcibly remount, call drive.mount(\"/content/drive\", force_remount=True).\n",
            "[Errno 2] No such file or directory: 'MY_DRIVE'\n",
            "/content\n",
            "/content/drive/MyDrive/Overview-Ind-Study/Overview/data/x_train/\n",
            "/content/drive/MyDrive/Overview-Ind-Study/Overview/data/y_train/\n",
            "2420\n",
            "Found 2419 files belonging to 1 classes.\n",
            "Using 1936 files for training.\n",
            "Found 2419 files belonging to 1 classes.\n",
            "Using 483 files for validation.\n",
            "Found 2419 files belonging to 1 classes.\n",
            "Using 1936 files for training.\n",
            "Found 2419 files belonging to 1 classes.\n",
            "Using 483 files for validation.\n"
          ]
        },
        {
          "output_type": "stream",
          "name": "stderr",
          "text": [
            "WARNING:absl:`lr` is deprecated in Keras optimizer, please use `learning_rate` or use the legacy optimizer, e.g.,tf.keras.optimizers.legacy.Adam.\n"
          ]
        },
        {
          "output_type": "stream",
          "name": "stdout",
          "text": [
            "Epoch 1/200\n",
            "61/61 [==============================] - ETA: 0s - loss: 52.7618 - mean_squared_error: 0.0864"
          ]
        },
        {
          "output_type": "stream",
          "name": "stderr",
          "text": [
            "WARNING:tensorflow:6 out of the last 6 calls to <function Model.make_test_function.<locals>.test_function at 0x787098be1ea0> triggered tf.function retracing. Tracing is expensive and the excessive number of tracings could be due to (1) creating @tf.function repeatedly in a loop, (2) passing tensors with different shapes, (3) passing Python objects instead of tensors. For (1), please define your @tf.function outside of the loop. For (2), @tf.function has reduce_retracing=True option that can avoid unnecessary retracing. For (3), please refer to https://www.tensorflow.org/guide/function#controlling_retracing and https://www.tensorflow.org/api_docs/python/tf/function for  more details.\n"
          ]
        },
        {
          "output_type": "stream",
          "name": "stdout",
          "text": [
            "\b\b\b\b\b\b\b\b\b\b\b\b\b\b\b\b\b\b\b\b\b\b\b\b\b\b\b\b\b\b\b\b\b\b\b\b\b\b\b\b\b\b\b\b\b\b\b\b\b\b\b\b\b\b\b\b\b\b\b\b\b\b\b\b\b\b\b\b\b\b\b\b\b\b\b\b\b\b\b\b\b\b\b\b\b\b\b\b\b\b\b\b\b\r61/61 [==============================] - 28s 378ms/step - loss: 52.7618 - mean_squared_error: 0.0864 - val_loss: 44.2332 - val_mean_squared_error: 0.0951\n",
            "Epoch 2/200\n",
            "61/61 [==============================] - 16s 259ms/step - loss: 43.0480 - mean_squared_error: 0.1193 - val_loss: 38.4983 - val_mean_squared_error: 0.1213\n",
            "Epoch 3/200\n",
            "61/61 [==============================] - 16s 259ms/step - loss: 35.0383 - mean_squared_error: 0.1089 - val_loss: 30.4883 - val_mean_squared_error: 0.1001\n",
            "Epoch 4/200\n",
            "61/61 [==============================] - 16s 259ms/step - loss: 29.3223 - mean_squared_error: 0.0977 - val_loss: 34.2611 - val_mean_squared_error: 0.1078\n",
            "Epoch 5/200\n",
            "61/61 [==============================] - 16s 260ms/step - loss: 28.3487 - mean_squared_error: 0.0893 - val_loss: 24.9186 - val_mean_squared_error: 0.0790\n",
            "Epoch 6/200\n",
            "61/61 [==============================] - 16s 259ms/step - loss: 24.2080 - mean_squared_error: 0.0771 - val_loss: 22.4007 - val_mean_squared_error: 0.0688\n",
            "Epoch 7/200\n",
            "61/61 [==============================] - 16s 259ms/step - loss: 22.1300 - mean_squared_error: 0.0715 - val_loss: 20.7735 - val_mean_squared_error: 0.0658\n",
            "Epoch 8/200\n",
            "61/61 [==============================] - 16s 259ms/step - loss: 21.2255 - mean_squared_error: 0.0678 - val_loss: 20.1030 - val_mean_squared_error: 0.0636\n",
            "Epoch 9/200\n",
            "61/61 [==============================] - 16s 259ms/step - loss: 20.6888 - mean_squared_error: 0.0648 - val_loss: 20.0224 - val_mean_squared_error: 0.0631\n",
            "Epoch 10/200\n",
            "61/61 [==============================] - 16s 260ms/step - loss: 20.3660 - mean_squared_error: 0.0624 - val_loss: 19.6295 - val_mean_squared_error: 0.0604\n",
            "Epoch 11/200\n",
            "61/61 [==============================] - 16s 258ms/step - loss: 20.0070 - mean_squared_error: 0.0604 - val_loss: 19.3925 - val_mean_squared_error: 0.0592\n",
            "Epoch 12/200\n",
            "61/61 [==============================] - 16s 258ms/step - loss: 19.5038 - mean_squared_error: 0.0567 - val_loss: 18.5625 - val_mean_squared_error: 0.0515\n",
            "Epoch 13/200\n",
            "61/61 [==============================] - 16s 258ms/step - loss: 18.9771 - mean_squared_error: 0.0524 - val_loss: 18.2175 - val_mean_squared_error: 0.0485\n",
            "Epoch 14/200\n",
            "61/61 [==============================] - 16s 259ms/step - loss: 18.5910 - mean_squared_error: 0.0500 - val_loss: 18.0495 - val_mean_squared_error: 0.0462\n",
            "Epoch 15/200\n",
            "61/61 [==============================] - 16s 259ms/step - loss: 18.3022 - mean_squared_error: 0.0479 - val_loss: 17.7660 - val_mean_squared_error: 0.0441\n",
            "Epoch 16/200\n",
            "61/61 [==============================] - 16s 259ms/step - loss: 18.0362 - mean_squared_error: 0.0459 - val_loss: 17.4131 - val_mean_squared_error: 0.0432\n",
            "Epoch 17/200\n",
            "61/61 [==============================] - 16s 259ms/step - loss: 17.6690 - mean_squared_error: 0.0437 - val_loss: 16.8251 - val_mean_squared_error: 0.0398\n",
            "Epoch 18/200\n",
            "61/61 [==============================] - 16s 258ms/step - loss: 16.0638 - mean_squared_error: 0.0408 - val_loss: 15.0336 - val_mean_squared_error: 0.0334\n",
            "Epoch 19/200\n",
            "61/61 [==============================] - 16s 259ms/step - loss: 14.8051 - mean_squared_error: 0.0371 - val_loss: 13.8066 - val_mean_squared_error: 0.0327\n",
            "Epoch 20/200\n",
            "61/61 [==============================] - 16s 259ms/step - loss: 14.0446 - mean_squared_error: 0.0349 - val_loss: 13.4817 - val_mean_squared_error: 0.0315\n",
            "Epoch 21/200\n",
            "61/61 [==============================] - 16s 259ms/step - loss: 13.6254 - mean_squared_error: 0.0323 - val_loss: 12.8489 - val_mean_squared_error: 0.0273\n",
            "Epoch 22/200\n",
            "61/61 [==============================] - 16s 258ms/step - loss: 14.1114 - mean_squared_error: 0.0251 - val_loss: 12.6409 - val_mean_squared_error: 0.0172\n",
            "Epoch 23/200\n",
            "61/61 [==============================] - 16s 258ms/step - loss: 12.0886 - mean_squared_error: 0.0105 - val_loss: 10.7414 - val_mean_squared_error: 0.0075\n",
            "Epoch 24/200\n",
            "61/61 [==============================] - 16s 258ms/step - loss: 11.2667 - mean_squared_error: 0.0085 - val_loss: 10.5647 - val_mean_squared_error: 0.0076\n",
            "Epoch 25/200\n",
            "61/61 [==============================] - 16s 258ms/step - loss: 10.6834 - mean_squared_error: 0.0073 - val_loss: 10.3399 - val_mean_squared_error: 0.0095\n",
            "Epoch 26/200\n",
            "61/61 [==============================] - 16s 258ms/step - loss: 10.2983 - mean_squared_error: 0.0067 - val_loss: 9.9377 - val_mean_squared_error: 0.0055\n",
            "Epoch 27/200\n",
            "61/61 [==============================] - 16s 259ms/step - loss: 10.0493 - mean_squared_error: 0.0062 - val_loss: 9.9230 - val_mean_squared_error: 0.0052\n",
            "Epoch 28/200\n",
            "61/61 [==============================] - 16s 258ms/step - loss: 9.9595 - mean_squared_error: 0.0061 - val_loss: 9.7213 - val_mean_squared_error: 0.0050\n",
            "Epoch 29/200\n",
            "61/61 [==============================] - 16s 258ms/step - loss: 10.2503 - mean_squared_error: 0.0065 - val_loss: 9.6428 - val_mean_squared_error: 0.0051\n",
            "Epoch 30/200\n",
            "61/61 [==============================] - 16s 259ms/step - loss: 9.8299 - mean_squared_error: 0.0058 - val_loss: 9.3374 - val_mean_squared_error: 0.0048\n",
            "Epoch 31/200\n",
            "61/61 [==============================] - 16s 259ms/step - loss: 9.6243 - mean_squared_error: 0.0058 - val_loss: 9.4656 - val_mean_squared_error: 0.0047\n",
            "Epoch 32/200\n",
            "61/61 [==============================] - 16s 259ms/step - loss: 9.5180 - mean_squared_error: 0.0057 - val_loss: 9.3911 - val_mean_squared_error: 0.0047\n",
            "Epoch 33/200\n",
            "61/61 [==============================] - 16s 258ms/step - loss: 9.5815 - mean_squared_error: 0.0059 - val_loss: 9.1919 - val_mean_squared_error: 0.0049\n",
            "Epoch 34/200\n",
            "61/61 [==============================] - 16s 258ms/step - loss: 9.5008 - mean_squared_error: 0.0060 - val_loss: 9.3450 - val_mean_squared_error: 0.0048\n",
            "Epoch 35/200\n",
            "61/61 [==============================] - 16s 259ms/step - loss: 9.2654 - mean_squared_error: 0.0054 - val_loss: 9.1396 - val_mean_squared_error: 0.0044\n",
            "Epoch 36/200\n",
            "61/61 [==============================] - 16s 258ms/step - loss: 9.2205 - mean_squared_error: 0.0056 - val_loss: 8.9650 - val_mean_squared_error: 0.0043\n",
            "Epoch 37/200\n",
            "61/61 [==============================] - 16s 258ms/step - loss: 9.0503 - mean_squared_error: 0.0053 - val_loss: 8.9833 - val_mean_squared_error: 0.0047\n",
            "Epoch 38/200\n",
            "61/61 [==============================] - 16s 259ms/step - loss: 9.0777 - mean_squared_error: 0.0055 - val_loss: 8.9122 - val_mean_squared_error: 0.0068\n",
            "Epoch 39/200\n",
            "61/61 [==============================] - 16s 260ms/step - loss: 8.8825 - mean_squared_error: 0.0053 - val_loss: 8.7897 - val_mean_squared_error: 0.0064\n",
            "Epoch 40/200\n",
            "61/61 [==============================] - 16s 259ms/step - loss: 8.7954 - mean_squared_error: 0.0052 - val_loss: 8.7729 - val_mean_squared_error: 0.0065\n",
            "Epoch 41/200\n",
            "61/61 [==============================] - 16s 259ms/step - loss: 8.7137 - mean_squared_error: 0.0052 - val_loss: 8.8276 - val_mean_squared_error: 0.0055\n",
            "Epoch 42/200\n",
            "61/61 [==============================] - 16s 259ms/step - loss: 8.6741 - mean_squared_error: 0.0053 - val_loss: 8.6367 - val_mean_squared_error: 0.0054\n",
            "Epoch 43/200\n",
            "61/61 [==============================] - 16s 259ms/step - loss: 8.5408 - mean_squared_error: 0.0051 - val_loss: 8.7381 - val_mean_squared_error: 0.0053\n",
            "Epoch 44/200\n",
            "61/61 [==============================] - 16s 258ms/step - loss: 8.5633 - mean_squared_error: 0.0052 - val_loss: 9.0789 - val_mean_squared_error: 0.0070\n",
            "Epoch 45/200\n",
            "61/61 [==============================] - 16s 258ms/step - loss: 8.5821 - mean_squared_error: 0.0054 - val_loss: 8.6604 - val_mean_squared_error: 0.0057\n",
            "Epoch 46/200\n",
            "61/61 [==============================] - 16s 259ms/step - loss: 8.5269 - mean_squared_error: 0.0053 - val_loss: 8.7640 - val_mean_squared_error: 0.0049\n",
            "Epoch 47/200\n",
            "61/61 [==============================] - 16s 259ms/step - loss: 8.4315 - mean_squared_error: 0.0051 - val_loss: 8.7781 - val_mean_squared_error: 0.0044\n",
            "Epoch 48/200\n",
            "61/61 [==============================] - 16s 258ms/step - loss: 8.3075 - mean_squared_error: 0.0050 - val_loss: 8.6418 - val_mean_squared_error: 0.0050\n",
            "Epoch 49/200\n",
            "61/61 [==============================] - 16s 259ms/step - loss: 8.1855 - mean_squared_error: 0.0050 - val_loss: 8.5826 - val_mean_squared_error: 0.0048\n",
            "Epoch 50/200\n",
            "61/61 [==============================] - 16s 258ms/step - loss: 8.1531 - mean_squared_error: 0.0049 - val_loss: 8.6562 - val_mean_squared_error: 0.0048\n",
            "Epoch 51/200\n",
            "61/61 [==============================] - 16s 259ms/step - loss: 8.0768 - mean_squared_error: 0.0050 - val_loss: 8.4732 - val_mean_squared_error: 0.0044\n",
            "Epoch 52/200\n",
            "61/61 [==============================] - 16s 259ms/step - loss: 8.0365 - mean_squared_error: 0.0050 - val_loss: 9.0394 - val_mean_squared_error: 0.0041\n",
            "Epoch 53/200\n",
            "61/61 [==============================] - 16s 258ms/step - loss: 8.2452 - mean_squared_error: 0.0051 - val_loss: 8.5702 - val_mean_squared_error: 0.0071\n",
            "Epoch 54/200\n",
            "61/61 [==============================] - 16s 259ms/step - loss: 8.1991 - mean_squared_error: 0.0052 - val_loss: 8.3936 - val_mean_squared_error: 0.0044\n",
            "Epoch 55/200\n",
            "61/61 [==============================] - 16s 258ms/step - loss: 8.0850 - mean_squared_error: 0.0051 - val_loss: 8.5312 - val_mean_squared_error: 0.0042\n",
            "Epoch 56/200\n",
            "61/61 [==============================] - 16s 258ms/step - loss: 7.9725 - mean_squared_error: 0.0049 - val_loss: 8.4575 - val_mean_squared_error: 0.0041\n",
            "Epoch 57/200\n",
            "61/61 [==============================] - 16s 259ms/step - loss: 7.9015 - mean_squared_error: 0.0049 - val_loss: 8.3975 - val_mean_squared_error: 0.0043\n",
            "Epoch 58/200\n",
            "61/61 [==============================] - 16s 259ms/step - loss: 7.8541 - mean_squared_error: 0.0049 - val_loss: 8.4743 - val_mean_squared_error: 0.0041\n",
            "Epoch 59/200\n",
            "61/61 [==============================] - 16s 258ms/step - loss: 7.9427 - mean_squared_error: 0.0052 - val_loss: 9.0817 - val_mean_squared_error: 0.0044\n",
            "Epoch 60/200\n",
            "61/61 [==============================] - 16s 259ms/step - loss: 7.9969 - mean_squared_error: 0.0051 - val_loss: 8.8539 - val_mean_squared_error: 0.0041\n",
            "Epoch 61/200\n",
            "61/61 [==============================] - 16s 258ms/step - loss: 7.8981 - mean_squared_error: 0.0050 - val_loss: 8.8976 - val_mean_squared_error: 0.0042\n",
            "Epoch 62/200\n",
            "61/61 [==============================] - 16s 258ms/step - loss: 7.8819 - mean_squared_error: 0.0051 - val_loss: 8.9382 - val_mean_squared_error: 0.0044\n",
            "Epoch 63/200\n",
            "61/61 [==============================] - 16s 259ms/step - loss: 7.8119 - mean_squared_error: 0.0049 - val_loss: 8.6531 - val_mean_squared_error: 0.0041\n",
            "Epoch 64/200\n",
            "61/61 [==============================] - 16s 258ms/step - loss: 7.7407 - mean_squared_error: 0.0050 - val_loss: 8.8679 - val_mean_squared_error: 0.0043\n",
            "Epoch 65/200\n",
            "61/61 [==============================] - 16s 259ms/step - loss: 7.9211 - mean_squared_error: 0.0052 - val_loss: 8.4732 - val_mean_squared_error: 0.0041\n",
            "Epoch 66/200\n",
            "61/61 [==============================] - 16s 258ms/step - loss: 7.8176 - mean_squared_error: 0.0050 - val_loss: 8.5877 - val_mean_squared_error: 0.0041\n",
            "Epoch 67/200\n",
            "61/61 [==============================] - 16s 258ms/step - loss: 7.6451 - mean_squared_error: 0.0049 - val_loss: 8.5855 - val_mean_squared_error: 0.0041\n",
            "Epoch 68/200\n",
            "61/61 [==============================] - 16s 258ms/step - loss: 7.5459 - mean_squared_error: 0.0047 - val_loss: 8.4929 - val_mean_squared_error: 0.0040\n",
            "Epoch 69/200\n",
            "61/61 [==============================] - 16s 258ms/step - loss: 7.5735 - mean_squared_error: 0.0048 - val_loss: 8.6976 - val_mean_squared_error: 0.0042\n",
            "Epoch 70/200\n",
            "61/61 [==============================] - 16s 257ms/step - loss: 7.7189 - mean_squared_error: 0.0051 - val_loss: 8.2886 - val_mean_squared_error: 0.0042\n",
            "Epoch 71/200\n",
            "61/61 [==============================] - 16s 258ms/step - loss: 7.6461 - mean_squared_error: 0.0050 - val_loss: 8.5117 - val_mean_squared_error: 0.0041\n",
            "Epoch 72/200\n",
            "61/61 [==============================] - 16s 258ms/step - loss: 7.4803 - mean_squared_error: 0.0048 - val_loss: 8.4699 - val_mean_squared_error: 0.0041\n",
            "Epoch 73/200\n",
            "61/61 [==============================] - 16s 259ms/step - loss: 7.6069 - mean_squared_error: 0.0050 - val_loss: 8.4245 - val_mean_squared_error: 0.0041\n",
            "Epoch 74/200\n",
            "61/61 [==============================] - 16s 258ms/step - loss: 7.6188 - mean_squared_error: 0.0050 - val_loss: 8.3367 - val_mean_squared_error: 0.0047\n",
            "Epoch 75/200\n",
            "61/61 [==============================] - 16s 258ms/step - loss: 7.7957 - mean_squared_error: 0.0052 - val_loss: 8.4412 - val_mean_squared_error: 0.0048\n",
            "Epoch 76/200\n",
            "61/61 [==============================] - 16s 258ms/step - loss: 7.4379 - mean_squared_error: 0.0048 - val_loss: 8.3959 - val_mean_squared_error: 0.0050\n",
            "Epoch 77/200\n",
            "61/61 [==============================] - 16s 259ms/step - loss: 7.5141 - mean_squared_error: 0.0050 - val_loss: 8.7741 - val_mean_squared_error: 0.0042\n",
            "Epoch 78/200\n",
            "61/61 [==============================] - 16s 259ms/step - loss: 7.3230 - mean_squared_error: 0.0048 - val_loss: 8.5614 - val_mean_squared_error: 0.0042\n",
            "Epoch 79/200\n",
            "61/61 [==============================] - 16s 258ms/step - loss: 7.1658 - mean_squared_error: 0.0047 - val_loss: 8.4969 - val_mean_squared_error: 0.0042\n",
            "Epoch 80/200\n",
            "61/61 [==============================] - 16s 258ms/step - loss: 7.2025 - mean_squared_error: 0.0048 - val_loss: 8.4587 - val_mean_squared_error: 0.0040\n",
            "Epoch 81/200\n",
            "61/61 [==============================] - 16s 258ms/step - loss: 7.2848 - mean_squared_error: 0.0050 - val_loss: 8.3810 - val_mean_squared_error: 0.0042\n",
            "Epoch 82/200\n",
            "61/61 [==============================] - 16s 258ms/step - loss: 7.2090 - mean_squared_error: 0.0049 - val_loss: 8.7724 - val_mean_squared_error: 0.0042\n",
            "Epoch 83/200\n",
            "61/61 [==============================] - 16s 258ms/step - loss: 7.2165 - mean_squared_error: 0.0050 - val_loss: 8.6140 - val_mean_squared_error: 0.0042\n",
            "Epoch 84/200\n",
            "61/61 [==============================] - ETA: 0s - loss: 7.4740 - mean_squared_error: 0.0053Restoring model weights from the end of the best epoch: 79.\n",
            "61/61 [==============================] - 16s 259ms/step - loss: 7.4740 - mean_squared_error: 0.0053 - val_loss: 8.4759 - val_mean_squared_error: 0.0044\n",
            "Epoch 84: early stopping\n"
          ]
        },
        {
          "output_type": "stream",
          "name": "stderr",
          "text": [
            "/usr/local/lib/python3.10/dist-packages/keras/src/engine/training.py:3000: UserWarning: You are saving your model as an HDF5 file via `model.save()`. This file format is considered legacy. We recommend using instead the native Keras format, e.g. `model.save('my_model.keras')`.\n",
            "  saving_api.save_model(\n"
          ]
        },
        {
          "output_type": "stream",
          "name": "stdout",
          "text": [
            "path exists: \n",
            "path exists: \n",
            "path exists: \n",
            "path exists: \n",
            "path exists: \n",
            "path exists: \n",
            "path exists: \n",
            "path exists: \n",
            "path exists: \n",
            "path exists: \n",
            "path exists: \n",
            "path exists: \n",
            "1/1 [==============================] - 0s 75ms/step - loss: 7.3532 - mean_squared_error: 0.0044\n",
            "scoring...\n",
            "['loss', 'mean_squared_error'] [7.353170871734619, 0.004358517471700907]\n"
          ]
        },
        {
          "output_type": "stream",
          "name": "stderr",
          "text": [
            "WARNING:tensorflow:5 out of the last 5 calls to <function Model.make_predict_function.<locals>.predict_function at 0x787103d31cf0> triggered tf.function retracing. Tracing is expensive and the excessive number of tracings could be due to (1) creating @tf.function repeatedly in a loop, (2) passing tensors with different shapes, (3) passing Python objects instead of tensors. For (1), please define your @tf.function outside of the loop. For (2), @tf.function has reduce_retracing=True option that can avoid unnecessary retracing. For (3), please refer to https://www.tensorflow.org/guide/function#controlling_retracing and https://www.tensorflow.org/api_docs/python/tf/function for  more details.\n"
          ]
        },
        {
          "output_type": "stream",
          "name": "stdout",
          "text": [
            "1/1 [==============================] - 0s 158ms/step\n",
            "<function vgg_loss at 0x7872302e3130>-16-100-0.0003-early-stop\n"
          ]
        }
      ],
      "source": [
        "from google.colab import drive\n",
        "drive.mount('/content/drive')\n",
        "MY_DRIVE = '/content/drive/MyDrive'\n",
        "%cd MY_DRIVE\n",
        "\n",
        "X_TRAIN_PATH = f\"{MY_DRIVE}/Overview-Ind-Study/Overview/data/x_train/\"\n",
        "Y_TRAIN_PATH = f\"{MY_DRIVE}/Overview-Ind-Study/Overview/data/y_train/\"\n",
        "\n",
        "\n",
        "# find the number of filenames that are in both, use this value as first\n",
        "# dimension of training/test tensors, i.e. number of training instances\n",
        "CMD_RESULT = !find $X_TRAIN_PATH $Y_TRAIN_PATH -printf '%P\\n' | sort | uniq -d | wc -l\n",
        "NUM_TRAINING_INSTANCES = int(CMD_RESULT[0])\n",
        "\n",
        "print(X_TRAIN_PATH)\n",
        "print(Y_TRAIN_PATH)\n",
        "print(NUM_TRAINING_INSTANCES)\n",
        "# assert NUM_TRAINING_INSTANCES > 500\n",
        "\n",
        "####################\n",
        "# 1. Dataset Loading\n",
        "####################\n",
        "import tensorflow as tf\n",
        "from tensorflow.keras.preprocessing.image import img_to_array, load_img\n",
        "from tensorflow.keras.applications.vgg19 import preprocess_input\n",
        "import numpy as np\n",
        "\n",
        "def process(image):\n",
        "    img = tf.cast(image, tf.float32) / 255.0\n",
        "    return img\n",
        "\n",
        "\n",
        "################### START VALIDATION SETUP\n",
        "#### OLD and WORKING\n",
        "# labels_dataset = tf.keras.preprocessing.image_dataset_from_directory(Y_TRAIN_PATH, label_mode=None, image_size=(512, 512), shuffle=False)\n",
        "# labels_dataset = labels_dataset.map(process)\n",
        "\n",
        "# train_dataset = tf.keras.preprocessing.image_dataset_from_directory(X_TRAIN_PATH, label_mode=None, image_size=(512, 512), shuffle=False)\n",
        "# train_dataset = train_dataset.map(process)\n",
        "\n",
        "# zipped_train_dataset = tf.data.Dataset.zip((train_dataset, labels_dataset))\n",
        "#### END OLD and WORKING\n",
        "\n",
        "#### NEW w/ VALIDATION\n",
        "validation_split = 0.2\n",
        "seed = 123  # for reproducibility\n",
        "\n",
        "labels_dataset_train = tf.keras.preprocessing.image_dataset_from_directory(\n",
        "    Y_TRAIN_PATH,\n",
        "    label_mode=None,\n",
        "    image_size=(512, 512),\n",
        "    shuffle=False,\n",
        "    validation_split=validation_split,\n",
        "    subset='training',\n",
        "    seed=seed\n",
        ")\n",
        "labels_dataset_train = labels_dataset_train.map(process)\n",
        "\n",
        "labels_dataset_val = tf.keras.preprocessing.image_dataset_from_directory(\n",
        "    Y_TRAIN_PATH,\n",
        "    label_mode=None,\n",
        "    image_size=(512, 512),\n",
        "    shuffle=False,\n",
        "    validation_split=validation_split,\n",
        "    subset='validation',\n",
        "    seed=seed\n",
        ")\n",
        "labels_dataset_val = labels_dataset_val.map(process)\n",
        "\n",
        "train_dataset_train = tf.keras.preprocessing.image_dataset_from_directory(\n",
        "    X_TRAIN_PATH,\n",
        "    label_mode=None,\n",
        "    image_size=(512, 512),\n",
        "    shuffle=False,\n",
        "    validation_split=validation_split,\n",
        "    subset='training',\n",
        "    seed=seed\n",
        ")\n",
        "train_dataset_train = train_dataset_train.map(process)\n",
        "\n",
        "train_dataset_val = tf.keras.preprocessing.image_dataset_from_directory(\n",
        "    X_TRAIN_PATH,\n",
        "    label_mode=None,\n",
        "    image_size=(512, 512),\n",
        "    shuffle=False,\n",
        "    validation_split=validation_split,\n",
        "    subset='validation',\n",
        "    seed=seed\n",
        ")\n",
        "train_dataset_val = train_dataset_val.map(process)\n",
        "\n",
        "zipped_train_dataset_train = tf.data.Dataset.zip((train_dataset_train, labels_dataset_train))\n",
        "zipped_train_dataset_val = tf.data.Dataset.zip((train_dataset_val, labels_dataset_val))\n",
        "#### END NEW w/ VALIDATION\n",
        "\n",
        "################### END VALIDATION SETUP\n",
        "\n",
        "############################\n",
        "# 2. VGG-based Loss Function\n",
        "############################\n",
        "from tensorflow.keras.applications import VGG19\n",
        "\n",
        "base_model = VGG19(weights='imagenet', include_top=False, input_shape=(224, 224, 3))\n",
        "base_model.trainable = False\n",
        "\n",
        "vgg_model = tf.keras.models.Model(inputs=base_model.input, outputs=base_model.get_layer('block3_conv4').output, name=\"VGG19_Model\")\n",
        "\n",
        "def vgg_loss(y_true, y_pred):\n",
        "    y_true_resized = tf.image.resize(y_true, (224, 224))\n",
        "    y_pred_resized = tf.image.resize(y_pred, (224, 224))\n",
        "    return tf.keras.losses.MSE(vgg_model(y_true_resized), vgg_model(y_pred_resized))\n",
        "\n",
        "\n",
        "\n",
        "###########################\n",
        "# 3. U-Net Model Definition\n",
        "###########################\n",
        "from tensorflow.keras.layers import Input, Conv2D, MaxPooling2D, UpSampling2D, Concatenate\n",
        "from tensorflow.keras.models import Model\n",
        "import tensorflow.keras.backend as K\n",
        "from tensorflow.keras.callbacks import EarlyStopping\n",
        "\n",
        "LEARNING_RATE = 0.0003\n",
        "\n",
        "# Your model definition here (unchanged)\n",
        "def generate_model():\n",
        "  filters = [64, 128, 256, 512, 1024]\n",
        "\n",
        "  poolsize = 2 # (2,2)\n",
        "  kernelsize = 3 # (3,3)\n",
        "  x = Input(shape=(512,512,3))\n",
        "  a = Convolution2D(filters[0], kernelsize, activation=\"relu\", padding=\"same\")(x) ### save copy for later, use in upsampling (resnet/symmetric skip connection)\n",
        "  b = MaxPooling2D(pool_size=poolsize, strides=2)(a)\n",
        "  c = Convolution2D(filters[1], kernelsize, activation=\"relu\", padding=\"same\")(b)\n",
        "  d = MaxPooling2D(pool_size=poolsize, strides=2)(c)\n",
        "  e = Convolution2D(filters[2], kernelsize, activation=\"relu\", padding=\"same\")(d)\n",
        "  f = MaxPooling2D(pool_size=poolsize, strides=2)(e)\n",
        "  g = Convolution2D(filters[3], kernelsize, activation=\"relu\", padding=\"same\")(f)\n",
        "  h = MaxPooling2D(pool_size=poolsize, strides=2)(g)\n",
        "  i = Convolution2D(filters[4], kernelsize, activation=\"relu\", padding=\"same\")(h)\n",
        "  j = UpSampling2D(size=poolsize, interpolation='nearest')(i)\n",
        "  j1 = _shortcut(g, j) # combine the saved convolutional layer and upsampling\n",
        "  k = Convolution2D(3, kernelsize, activation=\"relu\", padding=\"same\")(j1)\n",
        "  l = UpSampling2D(size=poolsize, interpolation='nearest')(k)\n",
        "  l1 = _shortcut(e, l)\n",
        "  m = Convolution2D(3, kernelsize, activation=\"relu\", padding=\"same\")(l1)\n",
        "  n = UpSampling2D(size=poolsize, interpolation='nearest')(m)\n",
        "  l1 = _shortcut(c, n)\n",
        "  o = Convolution2D(3, kernelsize, activation=\"relu\", padding=\"same\")(n)\n",
        "  p = UpSampling2D(size=poolsize, interpolation='nearest')(o)\n",
        "  p1 = _shortcut(a, p)\n",
        "  q = Convolution2D(3, kernelsize, activation=\"relu\", padding=\"same\")(p1)\n",
        "  r = Convolution2D(3, poolsize, activation=\"linear\", padding=\"same\")(q)\n",
        "  model = Model(inputs=x, outputs=r, name=\"U_Net_Model\")\n",
        "  adam = tf.keras.optimizers.Adam(lr=LEARNING_RATE)\n",
        "  model.compile(optimizer=adam, loss=vgg_loss, metrics=[tf.keras.metrics.MeanSquaredError()])\n",
        "  return model\n",
        "\n",
        "model = generate_model()\n",
        "\n",
        "\n",
        "####################\n",
        "# 4. Train the Model\n",
        "####################\n",
        "BATCH_SIZE = 16\n",
        "EPOCHS = 200\n",
        "\n",
        "early_stopping = EarlyStopping(\n",
        "    monitor='loss',  # or 'val_accuracy'\n",
        "    patience=5,  # Number of epochs with no improvement after which training will be stopped\n",
        "    verbose=1,  # To display log messages\n",
        "    restore_best_weights=True  # Restore model weights from the epoch with the best value of the monitored quantity\n",
        ")\n",
        "\n",
        "# OLD AND WORKING BEFORE VAL SETUP\n",
        "# history = model.fit(zipped_train_dataset, batch_size=BATCH_SIZE, epochs=EPOCHS, callbacks=[early_stopping], shuffle=True)\n",
        "\n",
        "# NEW w VAL SETUP\n",
        "history = model.fit(zipped_train_dataset_train, validation_data=zipped_train_dataset_val, batch_size=BATCH_SIZE, epochs=EPOCHS, callbacks=[early_stopping], shuffle=True)\n",
        "\n",
        "# Create folder using timestamp, save model and output images there\n",
        "now = datetime.now()\n",
        "\n",
        "folder = f\"{MY_DRIVE}/Overview-Ind-Study/Overview/models/{now}\"\n",
        "\n",
        "os.makedirs(folder, exist_ok=False)\n",
        "\n",
        "model.save(f\"{folder}/{model_name}.h5\")\n",
        "\n",
        "######################################################################################################\n",
        "\n",
        "# extract test images\n",
        "X_TEST_PATH = f\"{MY_DRIVE}/Overview-Ind-Study/Overview/data/x_test/\"\n",
        "Y_TEST_PATH = f\"{MY_DRIVE}/Overview-Ind-Study/Overview/data/y_test/\"\n",
        "def extract_data_testing(xPath, yPath):\n",
        "  X, y = np.zeros((12,512,512,3)), np.zeros((12,512,512,3))\n",
        "\n",
        "  index = 0\n",
        "  for file in os.listdir(xPath):\n",
        "    if path.exists(xPath + file):\n",
        "        print('path exists: ')\n",
        "        img = Image.open(xPath + file).convert('RGB')\n",
        "        imgArray = np.asarray(img, dtype='uint8')\n",
        "        imgArray =  imgArray / 255.0\n",
        "        X[index] = imgArray\n",
        "\n",
        "        img = Image.open(yPath + file).convert('RGB')\n",
        "        imgArray = np.asarray(img, dtype='uint8')\n",
        "        imgArray =  imgArray / 255.0\n",
        "        y[index] = imgArray\n",
        "\n",
        "        index += 1\n",
        "  return X, y\n",
        "X_test, y_test = extract_data_testing(X_TEST_PATH, Y_TEST_PATH)\n",
        "\n",
        "# evaluate model on test images\n",
        "score = model.evaluate(X_test, y_test)\n",
        "\n",
        "######################################################################################################\n",
        "\n",
        "##################\n",
        "# 5. Run Inference\n",
        "##################\n",
        "import matplotlib.pyplot as plt\n",
        "%matplotlib inline\n",
        "from google.colab.patches import cv2_imshow\n",
        "from datetime import datetime\n",
        "print(\"scoring...\")\n",
        "print (model.metrics_names, score)\n",
        "\n",
        "def predict(image_path):\n",
        "    img = load_img(image_path, target_size=(512, 512))\n",
        "    img_array = img_to_array(img)\n",
        "    img_array = img_array / 255.0\n",
        "    img_array = np.expand_dims(img_array, axis=0)\n",
        "\n",
        "    prediction = model.predict(img_array)\n",
        "\n",
        "    # Convert prediction back to image\n",
        "    predicted_img = tf.squeeze(prediction) * 255.0\n",
        "    return predicted_img.numpy().astype(np.uint8)\n",
        "\n",
        "\n",
        "# make prediction n\n",
        "out_array = model.predict(X_test)\n",
        "out_array = out_array.astype(np.float32) * 255.\n",
        "out_array = np.clip(out_array, 0, 255).astype('uint8')\n",
        "\n",
        "\n",
        "num, rows, cols, channels = out_array.shape\n",
        "print(model_name)\n",
        "for n in range(num):\n",
        "    filename = str(n) + \".jpg\"\n",
        "    # save prediction\n",
        "    out_img = Image.fromarray(out_array[n]).convert('L') # convert to black and white\n",
        "    # ts = str(datetime.now())\n",
        "    out_img.save(f\"{folder}/{model_name}_{filename}\", format=\"JPEG\")\n",
        "    out_img.show()"
      ]
    },
    {
      "cell_type": "code",
      "execution_count": 20,
      "metadata": {
        "id": "4tnuAoGkuPoz"
      },
      "outputs": [],
      "source": [
        "# # Create folder using timestamp, save model and output images there\n",
        "# now = datetime.now()\n",
        "\n",
        "# folder = f\"{MY_DRIVE}/Overview-Ind-Study/Overview/models/{now}\"\n",
        "\n",
        "# os.makedirs(folder, exist_ok=False)\n",
        "\n",
        "# model.save(f\"{folder}/{model_name}.h5\")"
      ]
    },
    {
      "cell_type": "code",
      "execution_count": 21,
      "metadata": {
        "colab": {
          "base_uri": "https://localhost:8080/"
        },
        "id": "c5_txBgkuYkO",
        "outputId": "2336561a-c239-4f22-ecc4-034f88da2bec"
      },
      "outputs": [
        {
          "output_type": "stream",
          "name": "stdout",
          "text": [
            "path exists: \n",
            "path exists: \n",
            "path exists: \n",
            "path exists: \n",
            "path exists: \n",
            "path exists: \n",
            "path exists: \n",
            "path exists: \n",
            "path exists: \n",
            "path exists: \n",
            "path exists: \n",
            "path exists: \n",
            "1/1 [==============================] - 1s 1s/step - loss: 27.4034 - mean_squared_error: 0.0506\n"
          ]
        }
      ],
      "source": [
        "######################################################################################################\n",
        "\n",
        "# extract test images\n",
        "X_TEST_PATH = f\"{MY_DRIVE}/Overview-Ind-Study/Overview/data/x_test/\"\n",
        "Y_TEST_PATH = f\"{MY_DRIVE}/Overview-Ind-Study/Overview/data/y_test/\"\n",
        "def extract_data_testing(xPath, yPath):\n",
        "  X, y = np.zeros((12,512,512,3)), np.zeros((12,512,512,3))\n",
        "\n",
        "  index = 0\n",
        "  for file in os.listdir(xPath):\n",
        "    if path.exists(xPath + file):\n",
        "        print('path exists: ')\n",
        "        img = Image.open(xPath + file).convert('RGB')\n",
        "        imgArray = np.asarray(img, dtype='uint8')\n",
        "        imgArray =  imgArray / 255.0\n",
        "        X[index] = imgArray\n",
        "\n",
        "        img = Image.open(yPath + file).convert('RGB')\n",
        "        imgArray = np.asarray(img, dtype='uint8')\n",
        "        imgArray =  imgArray / 255.0\n",
        "        y[index] = imgArray\n",
        "\n",
        "        index += 1\n",
        "  return X, y\n",
        "X_test, y_test = extract_data_testing(X_TEST_PATH, Y_TEST_PATH)\n",
        "\n",
        "# evaluate model on test images\n",
        "score = model.evaluate(X_test, y_test)\n",
        "\n",
        "######################################################################################################\n",
        "\n",
        "##################\n",
        "# 5. Run Inference\n",
        "##################\n",
        "import matplotlib.pyplot as plt\n",
        "%matplotlib inline\n",
        "from google.colab.patches import cv2_imshow\n",
        "from datetime import datetime\n",
        "print(\"scoring...\")\n",
        "print (model.metrics_names, score)\n",
        "\n",
        "def predict(image_path):\n",
        "    img = load_img(image_path, target_size=(512, 512))\n",
        "    img_array = img_to_array(img)\n",
        "    img_array = img_array / 255.0\n",
        "    img_array = np.expand_dims(img_array, axis=0)\n",
        "\n",
        "    prediction = model.predict(img_array)\n",
        "\n",
        "    # Convert prediction back to image\n",
        "    predicted_img = tf.squeeze(prediction) * 255.0\n",
        "    return predicted_img.numpy().astype(np.uint8)\n",
        "\n",
        "\n",
        "# make prediction n\n",
        "out_array = model.predict(X_test)\n",
        "out_array = out_array.astype(np.float32) * 255.\n",
        "out_array = np.clip(out_array, 0, 255).astype('uint8')\n",
        "\n",
        "\n",
        "num, rows, cols, channels = out_array.shape\n",
        "print(model_name)\n",
        "for n in range(num):\n",
        "    filename = str(n) + \".jpg\"\n",
        "    # save prediction\n",
        "    out_img = Image.fromarray(out_array[n]).convert('L') # convert to black and white\n",
        "    # ts = str(datetime.now())\n",
        "    out_img.save(f\"{folder}/{model_name}_{filename}\", format=\"JPEG\")\n",
        "    out_img.show()"
      ]
    },
    {
      "cell_type": "code",
      "execution_count": 31,
      "metadata": {
        "colab": {
          "base_uri": "https://localhost:8080/",
          "height": 927
        },
        "id": "g_-KliU-uwTb",
        "outputId": "1cde9af7-a53b-472a-95ba-b893bb902c6d"
      },
      "outputs": [
        {
          "output_type": "display_data",
          "data": {
            "text/plain": [
              "<Figure size 640x480 with 1 Axes>"
            ],
            "image/png": "[encoded data removed]"
          },
          "metadata": {}
        },
        {
          "output_type": "display_data",
          "data": {
            "text/plain": [
              "<Figure size 640x480 with 1 Axes>"
            ],
            "image/png": "[encoded data removed]"
          },
          "metadata": {}
        }
      ],
      "source": [
        "# Plot training & validation accuracy values\n",
        "plt.plot(history.history['loss'])\n",
        "plt.plot(history.history['mean_squared_error'])\n",
        "plt.title('Model mse')\n",
        "plt.ylabel('mse')\n",
        "plt.xlabel('Epoch')\n",
        "plt.legend(['Train', 'Val'], loc='upper left')\n",
        "plt.show()\n",
        "\n",
        "# Plot training & validation loss values\n",
        "plt.plot(history.history['loss'])\n",
        "# plt.plot(history.history['val_loss'])\n",
        "plt.title('Model loss')\n",
        "plt.ylabel('Loss')\n",
        "plt.xlabel('Epoch')\n",
        "plt.legend(['Train', 'Val'], loc='upper left')\n",
        "plt.show()\n"
      ]
    },
    {
      "cell_type": "code",
      "execution_count": 24,
      "metadata": {
        "colab": {
          "base_uri": "https://localhost:8080/"
        },
        "id": "df2FraE8rSLu",
        "outputId": "52f7771d-cf04-43ae-e9ea-f93c2b643837"
      },
      "outputs": [
        {
          "output_type": "stream",
          "name": "stdout",
          "text": [
            "scoring...\n",
            "['loss', 'mean_squared_error'] [27.4034423828125, 0.05058453977108002]\n",
            "1/1 [==============================] - 0s 160ms/step\n",
            "<function vgg_loss at 0x78717e2cc790>-16-100-0.0003-early-stop\n"
          ]
        }
      ],
      "source": [
        "##################\n",
        "# 5. Run Inference\n",
        "##################\n",
        "import matplotlib.pyplot as plt\n",
        "%matplotlib inline\n",
        "from google.colab.patches import cv2_imshow\n",
        "from datetime import datetime\n",
        "print(\"scoring...\")\n",
        "print (model.metrics_names, score)\n",
        "\n",
        "def predict(image_path):\n",
        "    img = load_img(image_path, target_size=(512, 512))\n",
        "    img_array = img_to_array(img)\n",
        "    img_array = img_array / 255.0\n",
        "    img_array = np.expand_dims(img_array, axis=0)\n",
        "\n",
        "    prediction = model.predict(img_array)\n",
        "\n",
        "    # Convert prediction back to image\n",
        "    predicted_img = tf.squeeze(prediction) * 255.0\n",
        "    return predicted_img.numpy().astype(np.uint8)\n",
        "\n",
        "\n",
        "# make prediction n\n",
        "out_array = model.predict(X_test)\n",
        "out_array = out_array.astype(np.float32) * 255.\n",
        "out_array = np.clip(out_array, 0, 255).astype('uint8')\n",
        "\n",
        "\n",
        "num, rows, cols, channels = out_array.shape\n",
        "print(model_name)\n",
        "for n in range(num):\n",
        "    filename = str(n) + \".jpg\"\n",
        "    # save prediction\n",
        "    out_img = Image.fromarray(out_array[n]).convert('L') # convert to black and white\n",
        "    # ts = str(datetime.now())\n",
        "    out_img.save(f\"{folder}/{model_name}_{filename}\", format=\"JPEG\")\n",
        "    out_img.show()"
      ]
    },
    {
      "cell_type": "code",
      "source": [
        "history.history.keys()"
      ],
      "metadata": {
        "id": "u6jKE-mDcU2K",
        "colab": {
          "base_uri": "https://localhost:8080/"
        },
        "outputId": "6c9d17f2-209c-410d-cdc0-92eb821751be"
      },
      "execution_count": 25,
      "outputs": [
        {
          "output_type": "execute_result",
          "data": {
            "text/plain": [
              "dict_keys(['loss', 'mean_squared_error'])"
            ]
          },
          "metadata": {},
          "execution_count": 25
        }
      ]
    },
    {
      "cell_type": "code",
      "source": [],
      "metadata": {
        "id": "yoFhKJK2gsez"
      },
      "execution_count": null,
      "outputs": []
    }
  ],
  "metadata": {
    "accelerator": "GPU",
    "colab": {
      "machine_shape": "hm",
      "provenance": [],
      "gpuClass": "premium",
      "include_colab_link": true
    },
    "gpuClass": "premium",
    "kernelspec": {
      "display_name": "Python 3",
      "name": "python3"
    }
  },
  "nbformat": 4,
  "nbformat_minor": 0
}