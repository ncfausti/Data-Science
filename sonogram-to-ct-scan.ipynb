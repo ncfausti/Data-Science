{
  "nbformat": 4,
  "nbformat_minor": 0,
  "metadata": {
    "colab": {
      "name": "trainCNN.ipynb",
      "provenance": [],
      "collapsed_sections": [],
      "toc_visible": true,
      "machine_shape": "hm",
      "include_colab_link": true
    },
    "kernelspec": {
      "name": "python3",
      "display_name": "Python 3"
    },
    "accelerator": "TPU"
  },
  "cells": [
    {
      "cell_type": "markdown",
      "metadata": {
        "id": "view-in-github",
        "colab_type": "text"
      },
      "source": [
        "<a href=\"https://colab.research.google.com/github/ncfausti/Data-Science/blob/master/sonogram-to-ct-scan.ipynb\" target=\"_parent\"><img src=\"https://colab.research.google.com/assets/colab-badge.svg\" alt=\"Open In Colab\"/></a>"
      ]
    },
    {
      "cell_type": "code",
      "metadata": {
        "colab": {
          "base_uri": "https://localhost:8080/"
        },
        "id": "dgi2uYlFk1rU",
        "outputId": "ae59957f-da1f-41d0-db68-90328bfa5405"
      },
      "source": [
        "from google.colab import drive\n",
        "drive.mount('/content/drive')"
      ],
      "execution_count": 1,
      "outputs": [
        {
          "output_type": "stream",
          "text": [
            "Mounted at /content/drive\n"
          ],
          "name": "stdout"
        }
      ]
    },
    {
      "cell_type": "code",
      "metadata": {
        "colab": {
          "base_uri": "https://localhost:8080/"
        },
        "id": "i3Q0gNdwYFu2",
        "outputId": "97cf87b0-aed8-476b-ddb2-f66902d9efa5"
      },
      "source": [
        "%cd drive/MyDrive"
      ],
      "execution_count": 2,
      "outputs": [
        {
          "output_type": "stream",
          "text": [
            "/content/drive/MyDrive\n"
          ],
          "name": "stdout"
        }
      ]
    },
    {
      "cell_type": "code",
      "metadata": {
        "colab": {
          "base_uri": "https://localhost:8080/"
        },
        "id": "aseaA46WYK7k",
        "outputId": "8a16a4f2-a9bc-4c10-9d3b-64566cde2471"
      },
      "source": [
        "!pwd"
      ],
      "execution_count": 3,
      "outputs": [
        {
          "output_type": "stream",
          "text": [
            "/content/drive/MyDrive\n"
          ],
          "name": "stdout"
        }
      ]
    },
    {
      "cell_type": "code",
      "metadata": {
        "colab": {
          "base_uri": "https://localhost:8080/"
        },
        "id": "D9QR58obwotF",
        "outputId": "c184f0f4-9db9-49ce-fee7-58ae2aa8376a"
      },
      "source": [
        "MY_DRIVE = '/content/drive/MyDrive/'\n",
        "\n",
        "X_TRAIN_PATH = MY_DRIVE + \"Overview-Ind-Study/Overview/data/X_train/\"\n",
        "Y_TRAIN_PATH = MY_DRIVE + \"Overview-Ind-Study/Overview/data/y_train/\"\n",
        "\n",
        "# find the number of filenames that are in both, use this value as first \n",
        "# dimension of training/test tensors, i.e. number of training instances\n",
        "CMD_RESULT = !find $X_TRAIN_PATH $Y_TRAIN_PATH -printf '%P\\n' | sort | uniq -d | wc -l\n",
        "NUM_TRAINING_INSTANCES = int(CMD_RESULT[0])\n",
        "\n",
        "print(NUM_TRAINING_INSTANCES)\n",
        "\n",
        "assert NUM_TRAINING_INSTANCES > 500"
      ],
      "execution_count": 22,
      "outputs": [
        {
          "output_type": "stream",
          "text": [
            "2420\n"
          ],
          "name": "stdout"
        }
      ]
    },
    {
      "cell_type": "code",
      "metadata": {
        "id": "BFVoMqJAU1nN"
      },
      "source": [
        "import numpy as np\n",
        "import os\n",
        "from PIL import Image\n",
        "from keras.layers.merge import add\n",
        "from keras.layers.normalization import BatchNormalization\n",
        "from keras.regularizers import l2\n",
        "from keras import backend as K\n",
        "from keras.layers.convolutional import Convolution2D\n",
        "import six\n",
        "\n",
        "from keras.models import Model\n",
        "from keras.layers import (\n",
        "    Input,\n",
        "    Activation,\n",
        "    Dense,\n",
        "    Flatten\n",
        ")\n",
        "\n",
        "from keras.layers.convolutional import (\n",
        "    Conv2D,\n",
        "    MaxPooling2D,\n",
        "    AveragePooling2D\n",
        ")\n",
        "\n",
        "import os.path\n",
        "from os import path\n",
        "\n",
        "ROW_AXIS = 1\n",
        "COL_AXIS = 2\n",
        "CHANNEL_AXIS = 3\n",
        "\n",
        "MY_DRIVE = '/content/drive/MyDrive/'\n",
        "\n",
        "X_TRAIN_PATH = MY_DRIVE + \"Overview-Ind-Study/Overview/data/X_train/\"\n",
        "Y_TRAIN_PATH = MY_DRIVE + \"Overview-Ind-Study/Overview/data/y_train/\"\n",
        "\n",
        "\n",
        "#########  https://www.programcreek.com/python/example/101438/keras.layers.merge.add #################\n",
        "\n",
        "\n",
        "def extract_data(xPath, yPath):\n",
        "#   drive.mount('/content/drive')\n",
        "  %cd \"/drive/MyDrive\" \n",
        "  #!ls\n",
        "  \n",
        "  # using all 2420 images now, instead of 1000 bc we have extra RAM\n",
        "  X, y = np.zeros((,512,512,3)), np.zeros((1000,512,512,3)) \n",
        "  \n",
        "  index = 0\n",
        "  for file in range(0, 2424):\n",
        "\n",
        "    filename_x = xPath + str(file)+'.jpg'\n",
        "    filename_y = yPath + str(file)+'.jpg'\n",
        "\n",
        "    if path.exists(filename_x) and path.exists(filename_y):\n",
        "        img = Image.open(filename_x).convert('RGB')\n",
        "        if file % 100 == 0:\n",
        "            print(\"extracting... \", file,\" of 1000\")\n",
        "        imgArray = np.asarray(img, dtype='uint8')\n",
        "        imgArray =  imgArray / 255.0\n",
        "        X[index] = imgArray\n",
        "\n",
        "        img = Image.open(filename_y).convert('RGB')\n",
        "        imgArray = np.asarray(img, dtype='uint8')\n",
        "        imgArray =  imgArray / 255.0\n",
        "        y[index] = imgArray\n",
        "        \n",
        "        index += 1\n",
        "  return X, y\n",
        "\n",
        "\n",
        "def _shortcut(input, residual):\n",
        "    \"\"\"Adds a shortcut between input and residual block and merges them with \"sum\"\n",
        "    \"\"\"\n",
        "    # Expand channels of shortcut to match residual.\n",
        "    # Stride appropriately to match residual (width, height)\n",
        "    # Should be int if network architecture is correctly configured.\n",
        "    input_shape = K.int_shape(input)\n",
        "    residual_shape = K.int_shape(residual)\n",
        "    stride_width = int(round(input_shape[ROW_AXIS] / residual_shape[ROW_AXIS]))\n",
        "    stride_height = int(round(input_shape[COL_AXIS] / residual_shape[COL_AXIS]))\n",
        "    equal_channels = input_shape[CHANNEL_AXIS] == residual_shape[CHANNEL_AXIS]\n",
        "\n",
        "    shortcut = input\n",
        "    # 1 X 1 conv if shape is different. Else identity.\n",
        "    if stride_width > 1 or stride_height > 1 or not equal_channels:\n",
        "        shortcut = Conv2D(filters=residual_shape[CHANNEL_AXIS],\n",
        "                          kernel_size=(1, 1),\n",
        "                          strides=(stride_width, stride_height),\n",
        "                          padding=\"valid\",\n",
        "                          kernel_initializer=\"he_normal\",\n",
        "                          kernel_regularizer=l2(0.0001))(input)\n",
        "\n",
        "    return add([shortcut, residual])"
      ],
      "execution_count": null,
      "outputs": []
    },
    {
      "cell_type": "code",
      "metadata": {
        "id": "kVBE_7ZOGJ1v"
      },
      "source": [
        "from keras.models import Sequential\n",
        "from keras.layers.convolutional import Convolution2D\n",
        "from keras.layers.convolutional import Convolution1D\n",
        "from keras.layers import Conv2DTranspose ## also try UpSampling2D\n",
        "from keras.layers import UpSampling2D\n",
        "from keras.layers import MaxPooling2D\n",
        "\n",
        "from keras.callbacks import ModelCheckpoint\n",
        "import keras\n",
        "\n",
        "import os.path\n",
        "from os import path\n",
        "\n",
        "from keras.layers import merge, Convolution2D, Input\n",
        "\n",
        "X_TEST_PATH = MY_DRIVE + \"Overview-Ind-Study/Overview/data/X_test/\"\n",
        "Y_TEST_PATH = MY_DRIVE + \"Overview-Ind-Study/Overview/data/y_test/\"\n",
        "\n",
        "def generate_model():  \n",
        "  poolsize = 2 # (2,2)\n",
        "  kerelsize = 3 # (3,3)\n",
        "  x = Input(shape=(512,512,3))\n",
        "  \n",
        "  a = Convolution2D(3, kerelsize, activation=\"relu\", padding=\"same\")(x) ### save copy for later, use in upsampling (resnet/symmetric skip connection)\n",
        "  \n",
        "  b = MaxPooling2D(pool_size=poolsize, strides=2)(a)\n",
        "  \n",
        "  c = Convolution2D(3, kerelsize, activation=\"relu\", padding=\"same\")(b)\n",
        "  \n",
        "  d = MaxPooling2D(pool_size=poolsize, strides=2)(c)\n",
        "    \n",
        "  e = Convolution2D(3, kerelsize, activation=\"relu\", padding=\"same\")(d)\n",
        "  \n",
        "  f = MaxPooling2D(pool_size=poolsize, strides=2)(e)\n",
        "  \n",
        "  g = Convolution2D(3, kerelsize, activation=\"relu\", padding=\"same\")(f)\n",
        "  \n",
        "  h = MaxPooling2D(pool_size=poolsize, strides=2)(g)\n",
        "  \n",
        "  #----\n",
        "  i = Convolution2D(3, kerelsize, activation=\"relu\", padding=\"same\")(h)\n",
        "  # ---\n",
        "  \n",
        "  j = UpSampling2D(size=poolsize, interpolation='nearest')(i)\n",
        "  j1 = _shortcut(g, j) # combine the saved convolutional layer and upsampling\n",
        "  \n",
        "  k = Convolution2D(3, kerelsize, activation=\"relu\", padding=\"same\")(j1)\n",
        "  \n",
        "  l = UpSampling2D(size=poolsize, interpolation='nearest')(k)\n",
        "  l1 = _shortcut(e, l)\n",
        "  \n",
        "  m = Convolution2D(3, kerelsize, activation=\"relu\", padding=\"same\")(l1) \n",
        "  \n",
        "  n = UpSampling2D(size=poolsize, interpolation='nearest')(m)\n",
        "  l1 = _shortcut(c, n)\n",
        "  \n",
        "  o = Convolution2D(3, kerelsize, activation=\"relu\", padding=\"same\")(n) \n",
        "  \n",
        "  p = UpSampling2D(size=poolsize, interpolation='nearest')(o)\n",
        "  p1 = _shortcut(a, p)\n",
        "  \n",
        "  q = Convolution2D(3, kerelsize, activation=\"relu\", padding=\"same\")(p1)\n",
        "  \n",
        "  r = Convolution2D(3, poolsize, activation=\"linear\", padding=\"same\")(q)\n",
        "  \n",
        "  model = Model(inputs=x, outputs = r)\n",
        "  \n",
        "  adam = keras.optimizers.Adam(lr=0.0001)\n",
        "  \n",
        "  model.compile(optimizer=adam, loss=\"mse\", metrics=['accuracy'])\n",
        "  return model\n",
        "\n",
        "\n",
        "def extract_data_testing(xPath, yPath):\n",
        "#   drive.mount('/content/drive')\n",
        "#   %cd \"/content/drive/MyDrive\" \n",
        "  #!ls\n",
        "  \n",
        "  X, y = np.zeros((12,512,512,3)), np.zeros((12,512,512,3))\n",
        "  \n",
        "  index = 0\n",
        "  for file in os.listdir(xPath):\n",
        "    if path.exists(xPath + file):\n",
        "        img = Image.open(xPath + file).convert('RGB')\n",
        "        imgArray = np.asarray(img, dtype='uint8')\n",
        "        imgArray =  imgArray / 255.0\n",
        "        X[index] = imgArray\n",
        "\n",
        "        img = Image.open(yPath + file).convert('RGB')\n",
        "        imgArray = np.asarray(img, dtype='uint8')\n",
        "        imgArray =  imgArray / 255.0\n",
        "        y[index] = imgArray\n",
        "        \n",
        "        index += 1\n",
        "  return X, y\n"
      ],
      "execution_count": null,
      "outputs": []
    },
    {
      "cell_type": "code",
      "metadata": {
        "id": "ahAUJ5A8GWDx"
      },
      "source": [
        "# Setup the model\n",
        "model = generate_model()"
      ],
      "execution_count": null,
      "outputs": []
    },
    {
      "cell_type": "code",
      "metadata": {
        "colab": {
          "base_uri": "https://localhost:8080/"
        },
        "id": "7IlU8PDRZAu1",
        "outputId": "09e0571e-9e4c-46b4-9152-1ef35a8034bd"
      },
      "source": [
        "!echo $X_TRAIN_PATH\n",
        "!ls {X_TRAIN_PATH}/*.jpg | wc -l\n",
        "!ls  {X_TRAIN_PATH}/5.jpg "
      ],
      "execution_count": null,
      "outputs": [
        {
          "output_type": "stream",
          "text": [
            "/content/drive/MyDrive/Overview-Ind-Study/Overview/data/X_train/\n",
            "2419\n",
            "ls: cannot access '/content/drive/MyDrive/Overview-Ind-Study/Overview/data/X_train//5.jpg': No such file or directory\n"
          ],
          "name": "stdout"
        }
      ]
    },
    {
      "cell_type": "code",
      "metadata": {
        "id": "xaDFanztGo-g",
        "colab": {
          "base_uri": "https://localhost:8080/",
          "height": 521
        },
        "outputId": "a99988de-420e-48e8-a9ff-90e50587b7f8"
      },
      "source": [
        "# Extract training data (memory intensive)\n",
        "X, y = extract_data(X_TRAIN_PATH, Y_TRAIN_PATH)"
      ],
      "execution_count": null,
      "outputs": [
        {
          "output_type": "stream",
          "text": [
            "[Errno 2] No such file or directory: '/drive/MyDrive'\n",
            "/content/drive/MyDrive\n",
            "extracting...  0  of 1000\n",
            "extracting...  100  of 1000\n",
            "extracting...  200  of 1000\n",
            "extracting...  300  of 1000\n",
            "extracting...  400  of 1000\n",
            "extracting...  500  of 1000\n",
            "extracting...  600  of 1000\n",
            "extracting...  700  of 1000\n",
            "extracting...  800  of 1000\n",
            "extracting...  900  of 1000\n",
            "extracting...  1000  of 1000\n"
          ],
          "name": "stdout"
        },
        {
          "output_type": "error",
          "ename": "IndexError",
          "evalue": "ignored",
          "traceback": [
            "\u001b[0;31m---------------------------------------------------------------------------\u001b[0m",
            "\u001b[0;31mIndexError\u001b[0m                                Traceback (most recent call last)",
            "\u001b[0;32m<ipython-input-8-7959ea27be2a>\u001b[0m in \u001b[0;36m<module>\u001b[0;34m()\u001b[0m\n\u001b[1;32m      1\u001b[0m \u001b[0;31m# Extract training data (memory intensive)\u001b[0m\u001b[0;34m\u001b[0m\u001b[0;34m\u001b[0m\u001b[0;34m\u001b[0m\u001b[0m\n\u001b[0;32m----> 2\u001b[0;31m \u001b[0mX\u001b[0m\u001b[0;34m,\u001b[0m \u001b[0my\u001b[0m \u001b[0;34m=\u001b[0m \u001b[0mextract_data\u001b[0m\u001b[0;34m(\u001b[0m\u001b[0mX_TRAIN_PATH\u001b[0m\u001b[0;34m,\u001b[0m \u001b[0mY_TRAIN_PATH\u001b[0m\u001b[0;34m)\u001b[0m\u001b[0;34m\u001b[0m\u001b[0;34m\u001b[0m\u001b[0m\n\u001b[0m",
            "\u001b[0;32m<ipython-input-4-f5a62726b428>\u001b[0m in \u001b[0;36mextract_data\u001b[0;34m(xPath, yPath)\u001b[0m\n\u001b[1;32m     59\u001b[0m         \u001b[0mimgArray\u001b[0m \u001b[0;34m=\u001b[0m \u001b[0mnp\u001b[0m\u001b[0;34m.\u001b[0m\u001b[0masarray\u001b[0m\u001b[0;34m(\u001b[0m\u001b[0mimg\u001b[0m\u001b[0;34m,\u001b[0m \u001b[0mdtype\u001b[0m\u001b[0;34m=\u001b[0m\u001b[0;34m'uint8'\u001b[0m\u001b[0;34m)\u001b[0m\u001b[0;34m\u001b[0m\u001b[0;34m\u001b[0m\u001b[0m\n\u001b[1;32m     60\u001b[0m         \u001b[0mimgArray\u001b[0m \u001b[0;34m=\u001b[0m  \u001b[0mimgArray\u001b[0m \u001b[0;34m/\u001b[0m \u001b[0;36m255.0\u001b[0m\u001b[0;34m\u001b[0m\u001b[0;34m\u001b[0m\u001b[0m\n\u001b[0;32m---> 61\u001b[0;31m         \u001b[0mX\u001b[0m\u001b[0;34m[\u001b[0m\u001b[0mindex\u001b[0m\u001b[0;34m]\u001b[0m \u001b[0;34m=\u001b[0m \u001b[0mimgArray\u001b[0m\u001b[0;34m\u001b[0m\u001b[0;34m\u001b[0m\u001b[0m\n\u001b[0m\u001b[1;32m     62\u001b[0m \u001b[0;34m\u001b[0m\u001b[0m\n\u001b[1;32m     63\u001b[0m         \u001b[0mimg\u001b[0m \u001b[0;34m=\u001b[0m \u001b[0mImage\u001b[0m\u001b[0;34m.\u001b[0m\u001b[0mopen\u001b[0m\u001b[0;34m(\u001b[0m\u001b[0mfilename_y\u001b[0m\u001b[0;34m)\u001b[0m\u001b[0;34m.\u001b[0m\u001b[0mconvert\u001b[0m\u001b[0;34m(\u001b[0m\u001b[0;34m'RGB'\u001b[0m\u001b[0;34m)\u001b[0m\u001b[0;34m\u001b[0m\u001b[0;34m\u001b[0m\u001b[0m\n",
            "\u001b[0;31mIndexError\u001b[0m: index 1000 is out of bounds for axis 0 with size 1000"
          ]
        }
      ]
    },
    {
      "cell_type": "code",
      "metadata": {
        "id": "J4PF6ZclcpJt"
      },
      "source": [
        "# Save a dictionary into a pickle file.\n",
        "import pickle\n",
        "import os.path\n",
        "\n",
        "file_path = \"pkl.pkl\"\n",
        "n_bytes = 2**31\n",
        "max_bytes = 2**31 - 1\n",
        "data = bytearray(n_bytes)\n",
        "\n",
        "## write\n",
        "bytes_out = pickle.dumps(data)\n",
        "with open(file_path, 'wb') as f_out:\n",
        "    for idx in range(0, len(bytes_out), max_bytes):\n",
        "        f_out.write(bytes_out[idx:idx+max_bytes])\n",
        "\n",
        "## read\n",
        "bytes_in = bytearray(0)\n",
        "input_size = os.path.getsize(file_path)\n",
        "with open(file_path, 'rb') as f_in:\n",
        "    for _ in range(0, input_size, max_bytes):\n",
        "        bytes_in += f_in.read(max_bytes)\n",
        "data2 = pickle.loads(bytes_in)\n",
        "\n",
        "assert(data == data2)"
      ],
      "execution_count": null,
      "outputs": []
    },
    {
      "cell_type": "code",
      "metadata": {
        "colab": {
          "base_uri": "https://localhost:8080/",
          "height": 164
        },
        "id": "FbJiqfbgkH5l",
        "outputId": "1864fb82-2960-465f-8132-949cf463138e"
      },
      "source": [
        "len(x)"
      ],
      "execution_count": null,
      "outputs": [
        {
          "output_type": "error",
          "ename": "NameError",
          "evalue": "ignored",
          "traceback": [
            "\u001b[0;31m---------------------------------------------------------------------------\u001b[0m",
            "\u001b[0;31mNameError\u001b[0m                                 Traceback (most recent call last)",
            "\u001b[0;32m<ipython-input-13-a7f4a5366567>\u001b[0m in \u001b[0;36m<module>\u001b[0;34m()\u001b[0m\n\u001b[0;32m----> 1\u001b[0;31m \u001b[0mlen\u001b[0m\u001b[0;34m(\u001b[0m\u001b[0mx\u001b[0m\u001b[0;34m)\u001b[0m\u001b[0;34m\u001b[0m\u001b[0;34m\u001b[0m\u001b[0m\n\u001b[0m",
            "\u001b[0;31mNameError\u001b[0m: name 'x' is not defined"
          ]
        }
      ]
    },
    {
      "cell_type": "code",
      "metadata": {
        "colab": {
          "base_uri": "https://localhost:8080/",
          "height": 181
        },
        "id": "uzTffM9BjZu1",
        "outputId": "5a393447-9c2e-4541-a353-4798f5b9caf5"
      },
      "source": [
        "extracted = { \"X\": X, \"y\": y }\n",
        "pickle.dumps( extracted, open( \"dec-15-baseline.pkl\", \"wb\" ) )\n"
      ],
      "execution_count": null,
      "outputs": [
        {
          "output_type": "error",
          "ename": "NameError",
          "evalue": "ignored",
          "traceback": [
            "\u001b[0;31m---------------------------------------------------------------------------\u001b[0m",
            "\u001b[0;31mNameError\u001b[0m                                 Traceback (most recent call last)",
            "\u001b[0;32m<ipython-input-11-e352cb05509c>\u001b[0m in \u001b[0;36m<module>\u001b[0;34m()\u001b[0m\n\u001b[0;32m----> 1\u001b[0;31m \u001b[0mextracted\u001b[0m \u001b[0;34m=\u001b[0m \u001b[0;34m{\u001b[0m \u001b[0;34m\"X\"\u001b[0m\u001b[0;34m:\u001b[0m \u001b[0mX\u001b[0m\u001b[0;34m,\u001b[0m \u001b[0;34m\"y\"\u001b[0m\u001b[0;34m:\u001b[0m \u001b[0my\u001b[0m \u001b[0;34m}\u001b[0m\u001b[0;34m\u001b[0m\u001b[0;34m\u001b[0m\u001b[0m\n\u001b[0m\u001b[1;32m      2\u001b[0m \u001b[0mpickle\u001b[0m\u001b[0;34m.\u001b[0m\u001b[0mdumps\u001b[0m\u001b[0;34m(\u001b[0m \u001b[0mextracted\u001b[0m\u001b[0;34m,\u001b[0m \u001b[0mopen\u001b[0m\u001b[0;34m(\u001b[0m \u001b[0;34m\"dec-15-baseline.pkl\"\u001b[0m\u001b[0;34m,\u001b[0m \u001b[0;34m\"wb\"\u001b[0m \u001b[0;34m)\u001b[0m \u001b[0;34m)\u001b[0m\u001b[0;34m\u001b[0m\u001b[0;34m\u001b[0m\u001b[0m\n",
            "\u001b[0;31mNameError\u001b[0m: name 'X' is not defined"
          ]
        }
      ]
    },
    {
      "cell_type": "code",
      "metadata": {
        "id": "0f13M3QIG1R1",
        "colab": {
          "base_uri": "https://localhost:8080/"
        },
        "outputId": "6c3d8000-a8f4-40ff-cb03-283bf9c8b6af"
      },
      "source": [
        "# Fit the model\n",
        "history = model.fit(X, y, batch_size=16, epochs=50, validation_split=0.2, shuffle=True)"
      ],
      "execution_count": null,
      "outputs": [
        {
          "output_type": "stream",
          "text": [
            "Epoch 1/50\n",
            "50/50 [==============================] - 46s 921ms/step - loss: 0.0771 - accuracy: 0.0495 - val_loss: 0.0722 - val_accuracy: 0.0126\n",
            "Epoch 2/50\n",
            "50/50 [==============================] - 45s 896ms/step - loss: 0.0578 - accuracy: 0.0039 - val_loss: 0.0546 - val_accuracy: 0.0024\n",
            "Epoch 3/50\n",
            "50/50 [==============================] - 45s 898ms/step - loss: 0.0478 - accuracy: 0.0023 - val_loss: 0.0465 - val_accuracy: 0.0027\n",
            "Epoch 4/50\n",
            "50/50 [==============================] - 45s 900ms/step - loss: 0.0421 - accuracy: 0.0034 - val_loss: 0.0410 - val_accuracy: 0.0052\n",
            "Epoch 5/50\n",
            "50/50 [==============================] - 45s 907ms/step - loss: 0.0380 - accuracy: 0.0075 - val_loss: 0.0367 - val_accuracy: 0.0136\n",
            "Epoch 6/50\n",
            "50/50 [==============================] - 45s 910ms/step - loss: 0.0346 - accuracy: 0.0183 - val_loss: 0.0329 - val_accuracy: 0.0307\n",
            "Epoch 7/50\n",
            "50/50 [==============================] - 45s 902ms/step - loss: 0.0315 - accuracy: 0.0391 - val_loss: 0.0294 - val_accuracy: 0.0652\n",
            "Epoch 8/50\n",
            "50/50 [==============================] - 45s 899ms/step - loss: 0.0282 - accuracy: 0.0779 - val_loss: 0.0254 - val_accuracy: 0.1211\n",
            "Epoch 9/50\n",
            "50/50 [==============================] - 45s 899ms/step - loss: 0.0245 - accuracy: 0.1412 - val_loss: 0.0210 - val_accuracy: 0.1883\n",
            "Epoch 10/50\n",
            "50/50 [==============================] - 45s 898ms/step - loss: 0.0209 - accuracy: 0.2204 - val_loss: 0.0182 - val_accuracy: 0.2792\n",
            "Epoch 11/50\n",
            "50/50 [==============================] - 47s 947ms/step - loss: 0.0181 - accuracy: 0.2948 - val_loss: 0.0149 - val_accuracy: 0.3093\n",
            "Epoch 12/50\n",
            "50/50 [==============================] - 45s 905ms/step - loss: 0.0157 - accuracy: 0.3494 - val_loss: 0.0141 - val_accuracy: 0.3880\n",
            "Epoch 13/50\n",
            "50/50 [==============================] - 45s 898ms/step - loss: 0.0141 - accuracy: 0.3916 - val_loss: 0.0126 - val_accuracy: 0.4186\n",
            "Epoch 14/50\n",
            "50/50 [==============================] - 44s 887ms/step - loss: 0.0130 - accuracy: 0.4219 - val_loss: 0.0111 - val_accuracy: 0.4252\n",
            "Epoch 15/50\n",
            "50/50 [==============================] - 45s 894ms/step - loss: 0.0120 - accuracy: 0.4413 - val_loss: 0.0103 - val_accuracy: 0.4296\n",
            "Epoch 16/50\n",
            "50/50 [==============================] - 45s 892ms/step - loss: 0.0114 - accuracy: 0.4527 - val_loss: 0.0098 - val_accuracy: 0.4365\n",
            "Epoch 17/50\n",
            "50/50 [==============================] - 44s 886ms/step - loss: 0.0108 - accuracy: 0.4602 - val_loss: 0.0096 - val_accuracy: 0.4509\n",
            "Epoch 18/50\n",
            "50/50 [==============================] - 45s 894ms/step - loss: 0.0103 - accuracy: 0.4656 - val_loss: 0.0104 - val_accuracy: 0.4797\n",
            "Epoch 19/50\n",
            "50/50 [==============================] - 45s 902ms/step - loss: 0.0104 - accuracy: 0.4716 - val_loss: 0.0090 - val_accuracy: 0.4622\n",
            "Epoch 20/50\n",
            "50/50 [==============================] - 44s 889ms/step - loss: 0.0098 - accuracy: 0.4711 - val_loss: 0.0093 - val_accuracy: 0.4707\n",
            "Epoch 21/50\n",
            "50/50 [==============================] - 44s 889ms/step - loss: 0.0095 - accuracy: 0.4722 - val_loss: 0.0086 - val_accuracy: 0.4525\n",
            "Epoch 22/50\n",
            "50/50 [==============================] - 45s 895ms/step - loss: 0.0093 - accuracy: 0.4684 - val_loss: 0.0089 - val_accuracy: 0.4628\n",
            "Epoch 23/50\n",
            "50/50 [==============================] - 45s 893ms/step - loss: 0.0093 - accuracy: 0.4659 - val_loss: 0.0083 - val_accuracy: 0.4421\n",
            "Epoch 24/50\n",
            "50/50 [==============================] - 45s 891ms/step - loss: 0.0090 - accuracy: 0.4648 - val_loss: 0.0084 - val_accuracy: 0.4484\n",
            "Epoch 25/50\n",
            "50/50 [==============================] - 45s 899ms/step - loss: 0.0090 - accuracy: 0.4591 - val_loss: 0.0083 - val_accuracy: 0.4458\n",
            "Epoch 26/50\n",
            "50/50 [==============================] - 45s 900ms/step - loss: 0.0089 - accuracy: 0.4578 - val_loss: 0.0081 - val_accuracy: 0.4330\n",
            "Epoch 27/50\n",
            "50/50 [==============================] - 44s 888ms/step - loss: 0.0087 - accuracy: 0.4519 - val_loss: 0.0081 - val_accuracy: 0.4305\n",
            "Epoch 28/50\n",
            "50/50 [==============================] - 45s 896ms/step - loss: 0.0086 - accuracy: 0.4438 - val_loss: 0.0087 - val_accuracy: 0.4400\n",
            "Epoch 29/50\n",
            "50/50 [==============================] - 45s 894ms/step - loss: 0.0085 - accuracy: 0.4409 - val_loss: 0.0082 - val_accuracy: 0.4253\n",
            "Epoch 30/50\n",
            "50/50 [==============================] - 44s 888ms/step - loss: 0.0085 - accuracy: 0.4344 - val_loss: 0.0079 - val_accuracy: 0.4102\n",
            "Epoch 31/50\n",
            "50/50 [==============================] - 45s 890ms/step - loss: 0.0085 - accuracy: 0.4279 - val_loss: 0.0082 - val_accuracy: 0.4144\n",
            "Epoch 32/50\n",
            "50/50 [==============================] - 45s 896ms/step - loss: 0.0084 - accuracy: 0.4205 - val_loss: 0.0084 - val_accuracy: 0.4136\n",
            "Epoch 33/50\n",
            "50/50 [==============================] - 45s 897ms/step - loss: 0.0084 - accuracy: 0.4153 - val_loss: 0.0083 - val_accuracy: 0.4068\n",
            "Epoch 34/50\n",
            "50/50 [==============================] - 44s 890ms/step - loss: 0.0085 - accuracy: 0.4105 - val_loss: 0.0078 - val_accuracy: 0.3849\n",
            "Epoch 35/50\n",
            "50/50 [==============================] - 45s 892ms/step - loss: 0.0083 - accuracy: 0.4012 - val_loss: 0.0078 - val_accuracy: 0.3860\n",
            "Epoch 36/50\n",
            "50/50 [==============================] - 44s 886ms/step - loss: 0.0082 - accuracy: 0.3962 - val_loss: 0.0078 - val_accuracy: 0.3793\n",
            "Epoch 37/50\n",
            "50/50 [==============================] - 45s 891ms/step - loss: 0.0082 - accuracy: 0.3893 - val_loss: 0.0078 - val_accuracy: 0.3750\n",
            "Epoch 38/50\n",
            "50/50 [==============================] - 45s 891ms/step - loss: 0.0082 - accuracy: 0.3840 - val_loss: 0.0077 - val_accuracy: 0.3647\n",
            "Epoch 39/50\n",
            "50/50 [==============================] - 45s 892ms/step - loss: 0.0081 - accuracy: 0.3781 - val_loss: 0.0077 - val_accuracy: 0.3632\n",
            "Epoch 40/50\n",
            "50/50 [==============================] - 45s 899ms/step - loss: 0.0081 - accuracy: 0.3736 - val_loss: 0.0077 - val_accuracy: 0.3593\n",
            "Epoch 41/50\n",
            "50/50 [==============================] - 45s 900ms/step - loss: 0.0081 - accuracy: 0.3669 - val_loss: 0.0078 - val_accuracy: 0.3590\n",
            "Epoch 42/50\n",
            "50/50 [==============================] - 44s 888ms/step - loss: 0.0081 - accuracy: 0.3637 - val_loss: 0.0080 - val_accuracy: 0.3560\n",
            "Epoch 43/50\n",
            "50/50 [==============================] - 45s 890ms/step - loss: 0.0081 - accuracy: 0.3591 - val_loss: 0.0076 - val_accuracy: 0.3452\n",
            "Epoch 44/50\n",
            "50/50 [==============================] - 44s 890ms/step - loss: 0.0080 - accuracy: 0.3537 - val_loss: 0.0077 - val_accuracy: 0.3424\n",
            "Epoch 45/50\n",
            "50/50 [==============================] - 45s 892ms/step - loss: 0.0080 - accuracy: 0.3496 - val_loss: 0.0076 - val_accuracy: 0.3399\n",
            "Epoch 46/50\n",
            "50/50 [==============================] - 45s 900ms/step - loss: 0.0080 - accuracy: 0.3467 - val_loss: 0.0076 - val_accuracy: 0.3369\n",
            "Epoch 47/50\n",
            "50/50 [==============================] - 45s 896ms/step - loss: 0.0079 - accuracy: 0.3422 - val_loss: 0.0075 - val_accuracy: 0.3311\n",
            "Epoch 48/50\n",
            "50/50 [==============================] - 44s 890ms/step - loss: 0.0079 - accuracy: 0.3387 - val_loss: 0.0075 - val_accuracy: 0.3301\n",
            "Epoch 49/50\n",
            "50/50 [==============================] - 45s 900ms/step - loss: 0.0079 - accuracy: 0.3364 - val_loss: 0.0084 - val_accuracy: 0.3349\n",
            "Epoch 50/50\n",
            "50/50 [==============================] - 45s 891ms/step - loss: 0.0080 - accuracy: 0.3349 - val_loss: 0.0075 - val_accuracy: 0.3264\n"
          ],
          "name": "stdout"
        }
      ]
    },
    {
      "cell_type": "code",
      "metadata": {
        "id": "zQ4DEkJyGPj7",
        "colab": {
          "base_uri": "https://localhost:8080/",
          "height": 234
        },
        "outputId": "e711c396-06d5-4dd9-ffed-2e2596f527a0"
      },
      "source": [
        "\n",
        "\n",
        "\n",
        "model.save(\"Overview-Ind-Study/Overview/model.h5\")\n",
        "\n",
        "# evaluate model\n",
        "X_test, y_test = extract_data_testing(X_TEST_PATH, Y_TEST_PATH)\n",
        "score = model.evaluate(X_test, y_test)\n",
        "print(\"scoring ...\")\n",
        "print (model.metrics_names, score)\n",
        "\n",
        "# make prediction  n\n",
        "out_array = model.predict(X_test)\n",
        "\n",
        "out_array = out_array.astype(np.float32) * 255. \n",
        "out_array = np.clip(out_array, 0, 255).astype('uint8') \n",
        "\n",
        "num, rows, cols, channels = out_array.shape\n",
        "\n",
        "for n in range(num):\n",
        "    filename= str(n) + \".jpg\"\n",
        "    # save prediction\n",
        "    out_img = Image.fromarray(out_array[n]).convert('L') # convert to black and white\n",
        "    out_img.save(\"Overview-Ind-Study/Overview/out_\" + filename, format=\"JPEG\")\n",
        "    out_img.show()\n"
      ],
      "execution_count": null,
      "outputs": [
        {
          "output_type": "error",
          "ename": "NameError",
          "evalue": "ignored",
          "traceback": [
            "\u001b[0;31m---------------------------------------------------------------------------\u001b[0m",
            "\u001b[0;31mNameError\u001b[0m                                 Traceback (most recent call last)",
            "\u001b[0;32m<ipython-input-1-422466355f71>\u001b[0m in \u001b[0;36m<module>\u001b[0;34m()\u001b[0m\n\u001b[1;32m      2\u001b[0m \u001b[0;34m\u001b[0m\u001b[0m\n\u001b[1;32m      3\u001b[0m \u001b[0;34m\u001b[0m\u001b[0m\n\u001b[0;32m----> 4\u001b[0;31m \u001b[0mmodel\u001b[0m\u001b[0;34m.\u001b[0m\u001b[0msave\u001b[0m\u001b[0;34m(\u001b[0m\u001b[0;34m\"Overview-Ind-Study/Overview/_model.h5\"\u001b[0m\u001b[0;34m)\u001b[0m\u001b[0;34m\u001b[0m\u001b[0;34m\u001b[0m\u001b[0m\n\u001b[0m\u001b[1;32m      5\u001b[0m \u001b[0;34m\u001b[0m\u001b[0m\n\u001b[1;32m      6\u001b[0m \u001b[0;31m# evaluate model\u001b[0m\u001b[0;34m\u001b[0m\u001b[0;34m\u001b[0m\u001b[0;34m\u001b[0m\u001b[0m\n",
            "\u001b[0;31mNameError\u001b[0m: name 'model' is not defined"
          ]
        }
      ]
    },
    {
      "cell_type": "code",
      "metadata": {
        "id": "FPFjyYjkGil2"
      },
      "source": [
        "import matplotlib.pyplot as plt\n",
        "# Plot training & validation accuracy values\n",
        "plt.plot(history.history['acc'])\n",
        "plt.plot(history.history['val_acc'])\n",
        "plt.title('Model accuracy')\n",
        "plt.ylabel('Accuracy')\n",
        "plt.xlabel('Epoch')\n",
        "plt.legend(['Train', 'Test'], loc='upper left')\n",
        "plt.show()\n",
        "\n",
        "# Plot training & validation loss values\n",
        "plt.plot(history.history['loss'])\n",
        "plt.plot(history.history['val_loss'])\n",
        "plt.title('Model loss')\n",
        "plt.ylabel('Loss')\n",
        "plt.xlabel('Epoch')\n",
        "plt.legend(['Train', 'Test'], loc='upper left')\n",
        "plt.show()"
      ],
      "execution_count": null,
      "outputs": []
    },
    {
      "cell_type": "code",
      "metadata": {
        "id": "EE08CuEPpAH2"
      },
      "source": [
        "OVERVIEW_DIR = '/content/drive/MyDrive/Overview-Ind-Study/Overview/'\n",
        "from tensorflow import keras\n",
        "model = keras.models.load_model(OVERVIEW_DIR + 'model.h5')"
      ],
      "execution_count": null,
      "outputs": []
    },
    {
      "cell_type": "code",
      "metadata": {
        "colab": {
          "base_uri": "https://localhost:8080/",
          "height": 232
        },
        "id": "SLwsFidQzprG",
        "outputId": "4d9ae594-770e-4965-cc18-5f9f7cdfd6cb"
      },
      "source": [
        "history = model.fit(X, y, batch_size=16, epochs=50, validation_split=0.2, shuffle=True)\n",
        "print(\"model fit ...\")\n",
        "model.save(\"Overview-Ind-Study/Overview/model.h5\")\n",
        "\n",
        "# evaluate model\n",
        "X_test, y_test = extract_data_testing(X_TEST_PATH, Y_TEST_PATH)\n",
        "score = model.evaluate(X_test, y_test)\n",
        "print(\"scoring ...\")\n",
        "print (model.metrics_names, score)\n",
        "\n",
        "# make prediction  n\n",
        "out_array = model.predict(X_test)\n",
        "\n",
        "out_array = out_array.astype(np.float32) * 255. \n",
        "out_array = np.clip(out_array, 0, 255).astype('uint8') \n",
        "\n",
        "num, rows, cols, channels = out_array.shape\n",
        "for n in range(num):\n",
        "    filename= str(n) + \".jpg\"\n",
        "# save prediction\n",
        "out_img = Image.fromarray(out_array[n]).convert('L') # convert to black and white\n",
        "out_img.save(\"Overview-Ind-Study/Overview/out_\" + filename, format=\"JPEG\")\n",
        "out_img.show()\n",
        "\n",
        "\n",
        "import matplotlib.pyplot as plt\n",
        "# Plot training & validation accuracy values\n",
        "plt.plot(history.history['acc'])\n",
        "plt.plot(history.history['val_acc'])\n",
        "plt.title('Model accuracy')\n",
        "plt.ylabel('Accuracy')\n",
        "plt.xlabel('Epoch')\n",
        "plt.legend(['Train', 'Test'], loc='upper left')\n",
        "plt.show()\n",
        "\n",
        "# Plot training & validation loss values\n",
        "plt.plot(history.history['loss'])\n",
        "plt.plot(history.history['val_loss'])\n",
        "plt.title('Model loss')\n",
        "plt.ylabel('Loss')\n",
        "plt.xlabel('Epoch')\n",
        "plt.legend(['Train', 'Test'], loc='upper left')\n",
        "plt.show()"
      ],
      "execution_count": null,
      "outputs": [
        {
          "output_type": "error",
          "ename": "NameError",
          "evalue": "ignored",
          "traceback": [
            "\u001b[0;31m---------------------------------------------------------------------------\u001b[0m",
            "\u001b[0;31mNameError\u001b[0m                                 Traceback (most recent call last)",
            "\u001b[0;32m<ipython-input-4-8f07d0668614>\u001b[0m in \u001b[0;36m<module>\u001b[0;34m()\u001b[0m\n\u001b[0;32m----> 1\u001b[0;31m \u001b[0mhistory\u001b[0m \u001b[0;34m=\u001b[0m \u001b[0mmodel\u001b[0m\u001b[0;34m.\u001b[0m\u001b[0mfit\u001b[0m\u001b[0;34m(\u001b[0m\u001b[0mX\u001b[0m\u001b[0;34m,\u001b[0m \u001b[0my\u001b[0m\u001b[0;34m,\u001b[0m \u001b[0mbatch_size\u001b[0m\u001b[0;34m=\u001b[0m\u001b[0;36m16\u001b[0m\u001b[0;34m,\u001b[0m \u001b[0mepochs\u001b[0m\u001b[0;34m=\u001b[0m\u001b[0;36m50\u001b[0m\u001b[0;34m,\u001b[0m \u001b[0mvalidation_split\u001b[0m\u001b[0;34m=\u001b[0m\u001b[0;36m0.2\u001b[0m\u001b[0;34m,\u001b[0m \u001b[0mshuffle\u001b[0m\u001b[0;34m=\u001b[0m\u001b[0;32mTrue\u001b[0m\u001b[0;34m)\u001b[0m\u001b[0;34m\u001b[0m\u001b[0;34m\u001b[0m\u001b[0m\n\u001b[0m\u001b[1;32m      2\u001b[0m \u001b[0mprint\u001b[0m\u001b[0;34m(\u001b[0m\u001b[0;34m\"model fit ...\"\u001b[0m\u001b[0;34m)\u001b[0m\u001b[0;34m\u001b[0m\u001b[0;34m\u001b[0m\u001b[0m\n\u001b[1;32m      3\u001b[0m \u001b[0mmodel\u001b[0m\u001b[0;34m.\u001b[0m\u001b[0msave\u001b[0m\u001b[0;34m(\u001b[0m\u001b[0;34m\"Overview-Ind-Study/Overview/model.h5\"\u001b[0m\u001b[0;34m)\u001b[0m\u001b[0;34m\u001b[0m\u001b[0;34m\u001b[0m\u001b[0m\n\u001b[1;32m      4\u001b[0m \u001b[0;34m\u001b[0m\u001b[0m\n\u001b[1;32m      5\u001b[0m \u001b[0;31m# evaluate model\u001b[0m\u001b[0;34m\u001b[0m\u001b[0;34m\u001b[0m\u001b[0;34m\u001b[0m\u001b[0m\n",
            "\u001b[0;31mNameError\u001b[0m: name 'model' is not defined"
          ]
        }
      ]
    },
    {
      "cell_type": "code",
      "metadata": {
        "id": "-9eR9kGoz-5S",
        "colab": {
          "base_uri": "https://localhost:8080/",
          "height": 164
        },
        "outputId": "5113a80d-2495-4a80-8ce4-e8b12448ee2a"
      },
      "source": [
        "# train model\n",
        "  model = generate_model()\n",
        "  print(\"model generated ...\")       \n",
        "  X, y = extract_data(X_TRAIN_PATH, Y_TRAIN_PATH)\n",
        "  print(\"data extracted ...\")\n",
        "  history = model.fit(X, y, batch_size=16, epochs=50, validation_split=0.2, shuffle=True)\n",
        "  print(\"model fit ...\")\n",
        "  model.save(\"Overview-Ind-Study/Overview/model.h5\")\n",
        "  \n",
        "  # evaluate model\n",
        "  X_test, y_test = extract_data_testing(X_TEST_PATH, Y_TEST_PATH)\n",
        "  score = model.evaluate(X_test, y_test)\n",
        "  print(\"scoring ...\")\n",
        "  print (model.metrics_names, score)\n",
        "  \n",
        "  # make prediction  n\n",
        "  out_array = model.predict(X_test)\n",
        "\n",
        "  out_array = out_array.astype(np.float32) * 255. \n",
        "  out_array = np.clip(out_array, 0, 255).astype('uint8') \n",
        "\n",
        "  num, rows, cols, channels = out_array.shape\n",
        "  for n in range(num):\n",
        "    filename= str(n) + \".jpg\"\n",
        "    # save prediction\n",
        "    out_img = Image.fromarray(out_array[n]).convert('L') # convert to black and white\n",
        "    out_img.save(\"Overview-Ind-Study/Overview/out_\" + filename, format=\"JPEG\")\n",
        "    out_img.show()\n",
        "    \n",
        "    \n",
        "  import matplotlib.pyplot as plt\n",
        "  # Plot training & validation accuracy values\n",
        "  plt.plot(history.history['acc'])\n",
        "  plt.plot(history.history['val_acc'])\n",
        "  plt.title('Model accuracy')\n",
        "  plt.ylabel('Accuracy')\n",
        "  plt.xlabel('Epoch')\n",
        "  plt.legend(['Train', 'Test'], loc='upper left')\n",
        "  plt.show()\n",
        "\n",
        "  # Plot training & validation loss values\n",
        "  plt.plot(history.history['loss'])\n",
        "  plt.plot(history.history['val_loss'])\n",
        "  plt.title('Model loss')\n",
        "  plt.ylabel('Loss')\n",
        "  plt.xlabel('Epoch')\n",
        "  plt.legend(['Train', 'Test'], loc='upper left')\n",
        "  plt.show()"
      ],
      "execution_count": null,
      "outputs": [
        {
          "output_type": "error",
          "ename": "NameError",
          "evalue": "ignored",
          "traceback": [
            "\u001b[0;31m---------------------------------------------------------------------------\u001b[0m",
            "\u001b[0;31mNameError\u001b[0m                                 Traceback (most recent call last)",
            "\u001b[0;32m<ipython-input-2-57a7f1180707>\u001b[0m in \u001b[0;36m<module>\u001b[0;34m()\u001b[0m\n\u001b[0;32m----> 1\u001b[0;31m \u001b[0mhistory\u001b[0m \u001b[0;34m=\u001b[0m \u001b[0mmodel\u001b[0m\u001b[0;34m.\u001b[0m\u001b[0mfit\u001b[0m\u001b[0;34m(\u001b[0m\u001b[0mX\u001b[0m\u001b[0;34m,\u001b[0m \u001b[0my\u001b[0m\u001b[0;34m,\u001b[0m \u001b[0mbatch_size\u001b[0m\u001b[0;34m=\u001b[0m\u001b[0;36m16\u001b[0m\u001b[0;34m,\u001b[0m \u001b[0mepochs\u001b[0m\u001b[0;34m=\u001b[0m\u001b[0;36m50\u001b[0m\u001b[0;34m,\u001b[0m \u001b[0mvalidation_split\u001b[0m\u001b[0;34m=\u001b[0m\u001b[0;36m0.2\u001b[0m\u001b[0;34m,\u001b[0m \u001b[0mshuffle\u001b[0m\u001b[0;34m=\u001b[0m\u001b[0;32mTrue\u001b[0m\u001b[0;34m)\u001b[0m\u001b[0;34m\u001b[0m\u001b[0;34m\u001b[0m\u001b[0m\n\u001b[0m",
            "\u001b[0;31mNameError\u001b[0m: name 'model' is not defined"
          ]
        }
      ]
    }
  ]
}