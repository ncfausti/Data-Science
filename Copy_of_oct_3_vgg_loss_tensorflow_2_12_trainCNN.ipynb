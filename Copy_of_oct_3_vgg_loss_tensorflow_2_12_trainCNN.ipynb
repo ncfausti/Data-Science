{
  "cells": [
    {
      "cell_type": "markdown",
      "metadata": {
        "id": "view-in-github",
        "colab_type": "text"
      },
      "source": [
        "<a href=\"https://colab.research.google.com/github/ncfausti/Data-Science/blob/master/Copy_of_oct_3_vgg_loss_tensorflow_2_12_trainCNN.ipynb\" target=\"_parent\"><img src=\"https://colab.research.google.com/assets/colab-badge.svg\" alt=\"Open In Colab\"/></a>"
      ]
    },
    {
      "cell_type": "markdown",
      "metadata": {
        "id": "eRahHE1xRxg2"
      },
      "source": [
        "# To use a model (*.h5) already created and saved to colab go here:\n",
        "\n",
        "loadModel.ipynb https://colab.research.google.com/drive/1aXIbdQztc77bY7CdazEd59oJijxDXHQM\n",
        "\n",
        "### Model naming format:  \n",
        "`Overview-Ind-Study/Overview/<loss function>-<batch size>-<epochs>-<learning rate>.h5`\n",
        "\n",
        "### Results naming format:\n",
        "`Overview-Ind-Study/Overview/newModel/<loss function>-<batch size>-<epochs>-<learning rate>.jpg`\n"
      ]
    },
    {
      "cell_type": "markdown",
      "metadata": {
        "id": "92UY6873edr4"
      },
      "source": [
        "### Import proper version of TF - 2.12"
      ]
    },
    {
      "cell_type": "code",
      "execution_count": 1,
      "metadata": {
        "colab": {
          "base_uri": "https://localhost:8080/"
        },
        "id": "fTUCLzvTiUVR",
        "outputId": "73119caf-5c3d-4657-fd72-b2fe0d573723"
      },
      "outputs": [
        {
          "output_type": "stream",
          "name": "stdout",
          "text": [
            "2.13.0\n"
          ]
        }
      ],
      "source": [
        "# when restarting or reopening this notebook, you must\n",
        "# uncomment the line below, run this cell, restart the notebook, then comment out\n",
        "# the line below again\n",
        "\n",
        "# !pip install --upgrade tensorflow-gpu\n",
        "# !pip install --upgrade tensorflow\n",
        "import tensorflow as tf\n",
        "print(tf.__version__)"
      ]
    },
    {
      "cell_type": "markdown",
      "metadata": {
        "id": "eZ2App94W1Iy"
      },
      "source": [
        "Define the new VGG loss function. Block5 returns higher level, lower block number returns more low-level features."
      ]
    },
    {
      "cell_type": "code",
      "execution_count": 2,
      "metadata": {
        "colab": {
          "base_uri": "https://localhost:8080/"
        },
        "id": "iPz2_YZeWn55",
        "outputId": "a56e3d5a-a402-404e-bd21-23f905b97fdf"
      },
      "outputs": [
        {
          "output_type": "stream",
          "name": "stdout",
          "text": [
            "Downloading data from https://storage.googleapis.com/tensorflow/keras-applications/vgg19/vgg19_weights_tf_dim_ordering_tf_kernels_notop.h5\n",
            "80134624/80134624 [==============================] - 5s 0us/step\n",
            "<keras.src.engine.functional.Functional object at 0x787172310820>\n"
          ]
        }
      ],
      "source": [
        "from tensorflow.keras.applications.vgg19 import VGG19\n",
        "from tensorflow.keras.models import Model\n",
        "import sys\n",
        "sys.path.append('/content/drive/MyDrive/Overview-Ind-Study/Overview/modules')\n",
        "\n",
        "# Define the VGG19 model\n",
        "vgg = VGG19(include_top=False, weights='imagenet')\n",
        "vgg.trainable = False\n",
        "\n",
        "# Select the layer to get features from\n",
        "feature_extractor = Model(inputs=vgg.input, outputs=vgg.get_layer('block5_conv4').output)\n",
        "\n",
        "# Define the perceptual loss\n",
        "def vgg_loss(y_true, y_pred):\n",
        "    return tf.reduce_mean(tf.square(feature_extractor(y_true) - feature_extractor(y_pred)))\n",
        "print(vgg)"
      ]
    },
    {
      "cell_type": "code",
      "execution_count": 3,
      "metadata": {
        "colab": {
          "base_uri": "https://localhost:8080/"
        },
        "id": "dgi2uYlFk1rU",
        "outputId": "13462e1f-9f50-4a8d-e1f3-7a3b42fdaa04"
      },
      "outputs": [
        {
          "output_type": "stream",
          "name": "stdout",
          "text": [
            "Mounted at /content/drive\n",
            "[Errno 2] No such file or directory: 'MY_DRIVE'\n",
            "/content\n",
            "/content/drive/MyDrive/Overview-Ind-Study/Overview/data/x_train/\n",
            "/content/drive/MyDrive/Overview-Ind-Study/Overview/data/y_train/\n",
            "2420\n"
          ]
        }
      ],
      "source": [
        "from google.colab import drive\n",
        "drive.mount('/content/drive')\n",
        "MY_DRIVE = '/content/drive/MyDrive'\n",
        "%cd MY_DRIVE\n",
        "\n",
        "X_TRAIN_PATH = f\"{MY_DRIVE}/Overview-Ind-Study/Overview/data/x_train/\"\n",
        "Y_TRAIN_PATH = f\"{MY_DRIVE}/Overview-Ind-Study/Overview/data/y_train/\"\n",
        "\n",
        "# find the number of filenames that are in both, use this value as first\n",
        "# dimension of training/test tensors, i.e. number of training instances\n",
        "CMD_RESULT = !find $X_TRAIN_PATH $Y_TRAIN_PATH -printf '%P\\n' | sort | uniq -d | wc -l\n",
        "NUM_TRAINING_INSTANCES = int(CMD_RESULT[0])\n",
        "\n",
        "print(X_TRAIN_PATH)\n",
        "print(Y_TRAIN_PATH)\n",
        "print(NUM_TRAINING_INSTANCES)\n",
        "# assert NUM_TRAINING_INSTANCES > 500"
      ]
    },
    {
      "cell_type": "markdown",
      "metadata": {
        "id": "WTg26BtDyq_J"
      },
      "source": [
        "Check filesystem loaded correctly"
      ]
    },
    {
      "cell_type": "code",
      "execution_count": 4,
      "metadata": {
        "colab": {
          "base_uri": "https://localhost:8080/"
        },
        "id": "4zijZYkH0wd3",
        "outputId": "fc107bf0-a3e0-45de-d4d5-4cd6c96f7535"
      },
      "outputs": [
        {
          "output_type": "stream",
          "name": "stdout",
          "text": [
            "/content/drive/MyDrive/Overview-Ind-Study/Overview/data/y_train/953.jpg\n"
          ]
        }
      ],
      "source": [
        "!ls '/content/drive/MyDrive/Overview-Ind-Study/Overview/data/y_train/953.jpg'"
      ]
    },
    {
      "cell_type": "code",
      "execution_count": 5,
      "metadata": {
        "colab": {
          "base_uri": "https://localhost:8080/",
          "height": 343
        },
        "id": "0dekyxMB0udf",
        "outputId": "09c3e5d0-3203-4776-d6bc-4f8d15f5414e"
      },
      "outputs": [
        {
          "output_type": "stream",
          "name": "stderr",
          "text": [
            "WARNING:matplotlib.image:Clipping input data to the valid range for imshow with RGB data ([0..1] for floats or [0..255] for integers).\n",
            "WARNING:matplotlib.image:Clipping input data to the valid range for imshow with RGB data ([0..1] for floats or [0..255] for integers).\n"
          ]
        },
        {
          "output_type": "execute_result",
          "data": {
            "text/plain": [
              "<matplotlib.image.AxesImage at 0x7871723ac490>"
            ]
          },
          "metadata": {},
          "execution_count": 5
        },
        {
          "output_type": "display_data",
          "data": {
            "text/plain": [
              "<Figure size 640x480 with 1 Axes>"
            ],
            "image/png": "[encoded data removed]"
          },
          "metadata": {}
        }
      ],
      "source": [
        "from tensorflow.keras.applications.vgg19 import preprocess_input\n",
        "from tensorflow.keras.preprocessing.image import img_to_array, load_img\n",
        "import numpy as np\n",
        "import matplotlib.pyplot as plt\n",
        "\n",
        "# Load an image file\n",
        "img = load_img('/content/drive/MyDrive/Overview-Ind-Study/Overview/data/y_train/953.jpg', target_size=(224, 224))\n",
        "\n",
        "# Convert the image to an array\n",
        "img_array = img_to_array(img)\n",
        "\n",
        "# Expand dimensions so the image has a batch size\n",
        "img_array = np.expand_dims(img_array, axis=0)\n",
        "\n",
        "# Preprocess the image to make it suitable for VGG19\n",
        "img_array = preprocess_input(img_array)\n",
        "\n",
        "plt.subplot(121)\n",
        "plt.imshow(img_array[0], cmap='gray')\n",
        "# import imageio\n",
        "# image = imageio.imread('/content/drive/MyDrive/Overview-Ind-Study/Overview/data/y_train/953.jpg')\n",
        "# image = image / 255.0\n",
        "plt.subplot(121)\n",
        "plt.imshow(img_array[0], cmap=\"gray\")"
      ]
    },
    {
      "cell_type": "code",
      "execution_count": 6,
      "metadata": {
        "id": "aYNwtoIUh97Z"
      },
      "outputs": [],
      "source": [
        "from tensorflow.keras.models import Sequential\n",
        "from tensorflow.keras.layers import (Conv1D, Conv2D)\n",
        "\n",
        "import numpy as np\n",
        "import os\n",
        "from PIL import Image\n",
        "import os.path\n",
        "from os import path\n",
        "import tensorflow as tf\n",
        "from google.colab.patches import cv2_imshow\n",
        "from time import time\n",
        "import matplotlib.pyplot as plt\n",
        "import os\n",
        "from tensorflow.keras.models import Sequential\n",
        "from tensorflow.keras import layers\n",
        "from tensorflow.keras.callbacks import ModelCheckpoint\n",
        "\n",
        "from tensorflow.keras.layers import Convolution2D, Input\n",
        "import numpy as np\n",
        "from PIL import Image\n",
        "from tensorflow.keras.layers import Add\n",
        "from tensorflow.keras.layers import Concatenate\n",
        "# from keras.layers.normalization import BatchNormalization\n",
        "from tensorflow.keras.regularizers import l2\n",
        "from tensorflow.keras import backend as K\n",
        "# from tensorflow.keras.layers.convolutional import Convolution2D\n",
        "import six\n",
        "from tensorflow.keras.models import Model\n",
        "from tensorflow.keras.layers import (\n",
        "    Input,\n",
        "    Conv2DTranspose,\n",
        "    Activation,\n",
        "    UpSampling2D,\n",
        "    MaxPooling2D,\n",
        "    Dense,\n",
        "    Flatten\n",
        ")\n",
        "\n",
        "from tensorflow.keras.layers import (\n",
        "    Conv2D,\n",
        "    MaxPooling2D,\n",
        "    AveragePooling2D\n",
        ")\n",
        "from datetime import datetime"
      ]
    },
    {
      "cell_type": "code",
      "execution_count": 7,
      "metadata": {
        "id": "VpNTCHdUmID_"
      },
      "outputs": [],
      "source": [
        "from tensorflow.keras.applications.vgg19 import preprocess_input\n",
        "from tensorflow.keras.preprocessing.image import img_to_array, load_img\n",
        "import numpy as np\n",
        "\n",
        "# Load an image file\n",
        "# img = load_img('image.jpg', target_size=(224, 224))\n",
        "\n",
        "# # Convert the image to an array\n",
        "# img_array = img_to_array(img)\n",
        "\n",
        "# # Expand dimensions so the image has a batch size\n",
        "# img_array = np.expand_dims(img_array, axis=0)\n",
        "\n",
        "# # Preprocess the image to make it suitable for VGG19\n",
        "# img_array = preprocess_input(img_array)\n",
        "\n",
        "# # ==================================================================\n",
        "\n",
        "def extract_data_testing(xPath, yPath):\n",
        "  X, y = np.zeros((12,512,512,3)), np.zeros((12,512,512,3))\n",
        "\n",
        "  index = 0\n",
        "  for file in os.listdir(xPath):\n",
        "    if path.exists(xPath + file):\n",
        "        print('path exists: ')\n",
        "        img = Image.open(xPath + file).convert('RGB')\n",
        "        imgArray = np.asarray(img, dtype='uint8')\n",
        "        imgArray =  imgArray / 255.0\n",
        "        X[index] = imgArray\n",
        "\n",
        "        img = Image.open(yPath + file).convert('RGB')\n",
        "        imgArray = np.asarray(img, dtype='uint8')\n",
        "        imgArray =  imgArray / 255.0\n",
        "        y[index] = imgArray\n",
        "\n",
        "        index += 1\n",
        "  return X, y"
      ]
    },
    {
      "cell_type": "markdown",
      "metadata": {
        "id": "HFkvINthZu5i"
      },
      "source": [
        "# Comment out the last line in the next cell to create a new model"
      ]
    },
    {
      "cell_type": "code",
      "execution_count": 9,
      "metadata": {
        "id": "HTX74WTgYofF"
      },
      "outputs": [],
      "source": [
        "\n",
        "# My baseline, after using all images and keeping other hyperparameters the same\n",
        "# loaded_model = load_model(f\"{MY_DRIVE}/Overview-Ind-Study/Overview/trained-on-all-images-mar-25-2022.h5\")\n",
        "\n",
        "loaded_model = None\n",
        "# Best so far\n",
        "# loaded_model = load_model(f\"{MY_DRIVE}/Overview-Ind-Study/Overview/mse-8-15-0.0005.h5\")"
      ]
    },
    {
      "cell_type": "code",
      "execution_count": 10,
      "metadata": {
        "colab": {
          "base_uri": "https://localhost:8080/"
        },
        "id": "up-NhiCylCpM",
        "outputId": "aacb4eef-5a0d-4d43-df79-fc977d7db103"
      },
      "outputs": [
        {
          "output_type": "stream",
          "name": "stdout",
          "text": [
            "Found 12 files belonging to 1 classes.\n",
            "Found 12 files belonging to 1 classes.\n"
          ]
        }
      ],
      "source": [
        "X_TEST_PATH = f\"{MY_DRIVE}/Overview-Ind-Study/Overview/data/x_test/\"\n",
        "Y_TEST_PATH = f\"{MY_DRIVE}/Overview-Ind-Study/Overview/data/y_test/\"\n",
        "test_labels_dataset = tf.keras.preprocessing.image_dataset_from_directory(Y_TEST_PATH, label_mode=None, image_size=(512, 512), shuffle=False)\n",
        "test_dataset = tf.keras.preprocessing.image_dataset_from_directory(X_TEST_PATH, label_mode = None, image_size=(512, 512), shuffle=False)\n",
        "\n",
        "# zip x_train, y_train (input image and desired output image) into a tuple of datasets\n",
        "# this will be the input\n",
        "zipped_test_dataset = tf.data.Dataset.zip((test_dataset, test_labels_dataset))\n",
        "\n",
        "if loaded_model:\n",
        "    # X_test, y_test = extract_data_testing(X_TEST_PATH, Y_TEST_PATH)\n",
        "\n",
        "    print('predicting...')\n",
        "    # score = loaded_model.predict(test_dataset)\n",
        "    # make prediction  n\n",
        "    out_array = loaded_model.predict(test_dataset)\n",
        "    out_array = out_array.astype(np.float32) * 255.\n",
        "    out_array = np.clip(out_array, 0, 255).astype('uint8')\n",
        "\n",
        "    num, rows, cols, channels = out_array.shape\n",
        "    print(out_array.shape)\n",
        "    for n in range(num):\n",
        "        filename = str(n) + \".jpg\"\n",
        "        # save prediction\n",
        "        out_img = Image.fromarray(out_array[n]).convert('L') # convert to black and white\n",
        "        out_img.save(f\"{MY_DRIVE}/Overview-Ind-Study/Overview/out_\" + str(time()) + filename, format=\"JPEG\")\n",
        "\n",
        "        print(out_img)\n",
        "\n",
        "\n",
        "\n",
        "    loaded_model.evaluate()\n"
      ]
    },
    {
      "cell_type": "code",
      "execution_count": 11,
      "metadata": {
        "id": "xaiPFoXVBdx_"
      },
      "outputs": [],
      "source": [
        "from tensorflow.keras.utils import image_dataset_from_directory"
      ]
    },
    {
      "cell_type": "markdown",
      "metadata": {
        "id": "TWl-gmEhqwW4"
      },
      "source": [
        "### New Data Loading (23 May 2022)"
      ]
    },
    {
      "cell_type": "code",
      "execution_count": 12,
      "metadata": {
        "colab": {
          "base_uri": "https://localhost:8080/"
        },
        "id": "deWm6iXAqvBp",
        "outputId": "aab4f19c-3c5e-450a-c87c-34b2114c8e32"
      },
      "outputs": [
        {
          "output_type": "stream",
          "name": "stdout",
          "text": [
            "Found 2419 files belonging to 1 classes.\n",
            "Found 2419 files belonging to 1 classes.\n"
          ]
        }
      ],
      "source": [
        "# The generator that you are passing to the fit sequence must generate a tuple (img1, img2). You can use tf.data.Dataset.zip to achieve the desired shape :\n",
        "\n",
        "# normalize\n",
        "def process(image):\n",
        "    img = tf.cast(image ,tf.float32)\n",
        "    # imgArray = np.asarray(img, dtype='uint8')\n",
        "    imgArray =  img / 255.0\n",
        "    return imgArray\n",
        "\n",
        "\n",
        "labels_dataset = tf.keras.preprocessing.image_dataset_from_directory(Y_TRAIN_PATH, label_mode=None, image_size=(512, 512), shuffle=False)\n",
        "labels_dataset = labels_dataset.map(process)\n",
        "\n",
        "train_dataset = tf.keras.preprocessing.image_dataset_from_directory(X_TRAIN_PATH, label_mode = None, image_size=(512, 512), shuffle=False)\n",
        "train_dataset = train_dataset.map(process)\n",
        "\n",
        "# zip x_train, y_train (input image and desired output image) into a tuple of datasets\n",
        "zipped_train_dataset = tf.data.Dataset.zip((train_dataset, labels_dataset))"
      ]
    },
    {
      "cell_type": "code",
      "execution_count": null,
      "metadata": {
        "id": "RLtwMnpifBIP"
      },
      "outputs": [],
      "source": [
        "# plt.figure(figsize=(10, 10))\n",
        "# class_names = labels_dataset.class_names\n",
        "\n",
        "\n",
        "# for images, labels in zipped_train_dataset.take(1):\n",
        "#     for i in range(3):\n",
        "#         # ax = plt.subplot(6, 6, i + 1)\n",
        "#         img = images[i].numpy().astype(\"float\")\n",
        "#         print(img)\n",
        "#         # plt.imshow(img)\n",
        "#         # plt.title(class_names[labels[i]])|\n",
        "#         # plt.axis(\"off\")\n",
        "# plt.figure(figsize=(10, 10))\n",
        "# for images, labels in zipped_train_dataset.take(1):\n",
        "#     for i in range(3):\n",
        "#         # ax = plt.subplot(6, 6, i + 1)\n",
        "#         img = labels[i].numpy().astype(\"float\")\n",
        "#         print(img)\n",
        "#         # plt.imshow(img)\n",
        "#         # plt.axis(\"off\")"
      ]
    },
    {
      "cell_type": "code",
      "execution_count": null,
      "metadata": {
        "id": "R7QOgIqL9GGm"
      },
      "outputs": [],
      "source": [
        "# What am I doing each time?\n",
        "# shuffling between combinations of (loss_fn={\"mse\"|\"\"|\"\"},\n",
        "# batch_size={8|16|32}, epochs={1|3|5|10|15|20|25|50|100} )\n",
        "# These are the values to perform a search on\n",
        "\n",
        "# LOSS_FN = vgg_loss\n",
        "\n",
        "# 8 16 32\n",
        "# BATCH_SIZE = 16\n",
        "\n",
        "# 10, 20, 50, 100, 200, 500, 1000\n",
        "# EPOCHS = 10\n",
        "\n",
        "# 0.0001 0.0003 .0005\n",
        "# 0003 vs 00025 vs 00035\n",
        "# LEARNING_RATE = 0.0003\n",
        "\n",
        "\n",
        "#experiments:\n",
        "# A [loss=mse, batch=8, epochs=10] lr= 0.0001 vs lr = 0.0003\n",
        "# take best, use in next comparison, i.e. a tree of best settings until\n",
        "# finally getting all the optimal settings\n",
        "# Winner of A vs .0005\n",
        "# B [loss=mse, batch=8, epochs=10] lr=<winner of A> vs lr = 0.0005\n",
        "# Winner of A & B vs .001\n",
        "#experiments: [loss=mse, batch=8, epochs=10] lr= 0.0003 vs lr = 0.0005\n",
        "# compare agianst marissa's results, my baseline results with new data loading\n",
        "\n",
        "\n",
        "LOSS_FN = vgg_loss\n",
        "\n",
        "# 8 16 32\n",
        "BATCH_SIZE = 16\n",
        "\n",
        "# 10, 20, 50, 100, 200, 500, 1000\n",
        "EPOCHS = 100\n",
        "\n",
        "# 0.0001 0.0003 .0005\n",
        "# 0003 vs 00025 vs 00035\n",
        "LEARNING_RATE = 0.0003\n",
        "ROW_AXIS = 1\n",
        "COL_AXIS = 2\n",
        "CHANNEL_AXIS = 3\n",
        "\n",
        "def _shortcut(input, residual):\n",
        "    \"\"\"Adds a shortcut between input and residual block and merges them with \"sum\"\n",
        "    \"\"\"\n",
        "    # Expand channels of shortcut to match residual.\n",
        "    # Stride appropriately to match residual (width, height)\n",
        "    # Should be int if network architecture is correctly configured.\n",
        "    input_shape = K.int_shape(input)\n",
        "    residual_shape = K.int_shape(residual)\n",
        "    stride_width = int(round(input_shape[ROW_AXIS] / residual_shape[ROW_AXIS]))\n",
        "    stride_height = int(round(input_shape[COL_AXIS] / residual_shape[COL_AXIS]))\n",
        "    equal_channels = input_shape[CHANNEL_AXIS] == residual_shape[CHANNEL_AXIS]\n",
        "\n",
        "    shortcut = input\n",
        "    # 1 X 1 conv if shape is different. Else identity.\n",
        "    if stride_width > 1 or stride_height > 1 or not equal_channels:\n",
        "        shortcut = Conv2D(filters=residual_shape[CHANNEL_AXIS],\n",
        "                          kernel_size=(1, 1),\n",
        "                          strides=(stride_width, stride_height),\n",
        "                          padding=\"valid\",\n",
        "                          kernel_initializer=\"he_normal\",\n",
        "                          kernel_regularizer=l2(0.0001))(input)\n",
        "\n",
        "    return Concatenate()([shortcut, residual])\n",
        "\n",
        "\n",
        "def generate_model():\n",
        "  filters = [64, 128, 256, 512, 1024]\n",
        "  poolsize = 2 # (2,2)\n",
        "  kernelsize = 3 # (3,3)\n",
        "  x = Input(shape=(512,512,3))\n",
        "  a = Convolution2D(filters[0], kernelsize, activation=\"relu\", padding=\"same\")(x)\n",
        "  b = MaxPooling2D(pool_size=poolsize, strides=2)(a)\n",
        "  c = Convolution2D(filters[1], kernelsize, activation=\"relu\", padding=\"same\")(b)\n",
        "  d = MaxPooling2D(pool_size=poolsize, strides=2)(c)\n",
        "  e = Convolution2D(filters[2], kernelsize, activation=\"relu\", padding=\"same\")(d)\n",
        "  f = MaxPooling2D(pool_size=poolsize, strides=2)(e)\n",
        "  g = Convolution2D(filters[3], kernelsize, activation=\"relu\", padding=\"same\")(f)\n",
        "  h = MaxPooling2D(pool_size=poolsize, strides=2)(g)\n",
        "  i = Convolution2D(filters[4], kernelsize, activation=\"relu\", padding=\"same\")(h)\n",
        "  j = UpSampling2D(size=poolsize, interpolation='nearest')(i)\n",
        "  j1 = _shortcut(g, j) # combine the saved convolutional layer and upsampling\n",
        "  k = Convolution2D(3, kernelsize, activation=\"relu\", padding=\"same\")(j1)\n",
        "  l = UpSampling2D(size=poolsize, interpolation='nearest')(k)\n",
        "  l1 = _shortcut(e, l)\n",
        "  m = Convolution2D(3, kernelsize, activation=\"relu\", padding=\"same\")(l1)\n",
        "  n = UpSampling2D(size=poolsize, interpolation='nearest')(m)\n",
        "  l1 = _shortcut(c, n)\n",
        "  o = Convolution2D(3, kernelsize, activation=\"relu\", padding=\"same\")(n)\n",
        "  p = UpSampling2D(size=poolsize, interpolation='nearest')(o)\n",
        "  p1 = _shortcut(a, p)\n",
        "  q = Convolution2D(3, kernelsize, activation=\"relu\", padding=\"same\")(p1)\n",
        "  r = Convolution2D(3, poolsize, activation=\"linear\", padding=\"same\")(q)\n",
        "  model = Model(inputs=x, outputs = r)\n",
        "  adam = tf.keras.optimizers.Adam(lr=LEARNING_RATE)\n",
        "#   model.compile(optimizer=adam, loss=LOSS_FN, metrics=['accuracy'])\n",
        "  model.compile(optimizer=adam, loss=LOSS_FN, metrics=[tf.keras.metrics.MeanSquaredError()])\n",
        "\n",
        "  return model\n",
        "\n",
        "\n",
        "def extract_data_testing(xPath, yPath):\n",
        "  X, y = np.zeros((12,512,512,3)), np.zeros((12,512,512,3))\n",
        "\n",
        "  index = 0\n",
        "  for file in os.listdir(xPath):\n",
        "    if path.exists(xPath + file):\n",
        "        img = Image.open(xPath + file).convert('RGB')\n",
        "        imgArray = np.asarray(img, dtype='uint8')\n",
        "        imgArray =  imgArray / 255.0\n",
        "        X[index] = imgArray\n",
        "\n",
        "        img = Image.open(yPath + file).convert('RGB')\n",
        "        imgArray = np.asarray(img, dtype='uint8')\n",
        "        imgArray =  imgArray / 255.0\n",
        "        y[index] = imgArray\n",
        "\n",
        "        index += 1\n",
        "  return X, y\n",
        "\n",
        "# Setup the model\n",
        "model = generate_model()\n",
        "model.summary()\n",
        "\n",
        "extras = '-'.join(['early-stop'])\n",
        "\n",
        "# name the model using its hyper-params\n",
        "model_name = f\"{LOSS_FN}-{str(BATCH_SIZE)}-{str(EPOCHS)}-{str(LEARNING_RATE)}-{extras}\"\n",
        "\n",
        "\n",
        "\n",
        "dataset_size = 76\n",
        "\n",
        "# Calculate the number of training and validation elements\n",
        "train_size = int(0.7 * dataset_size)\n",
        "val_size = dataset_size - train_size\n",
        "\n",
        "# Split the dataset into training and validation datasets\n",
        "train_dataset = zipped_train_dataset.take(train_size)\n",
        "val_dataset = zipped_train_dataset.skip(train_size)"
      ]
    },
    {
      "cell_type": "code",
      "execution_count": 14,
      "metadata": {
        "id": "_-Jh0SQ_wO4x",
        "colab": {
          "base_uri": "https://localhost:8080/"
        },
        "outputId": "ccf0a517-4e3a-45e3-fb64-d162f9eed847"
      },
      "outputs": [
        {
          "output_type": "stream",
          "name": "stderr",
          "text": [
            "/usr/local/lib/python3.10/dist-packages/keras/src/engine/training.py:3000: UserWarning: You are saving your model as an HDF5 file via `model.save()`. This file format is considered legacy. We recommend using instead the native Keras format, e.g. `model.save('my_model.keras')`.\n",
            "  saving_api.save_model(\n"
          ]
        }
      ],
      "source": [
        "# Create folder using timestamp, save model and output images there\n",
        "now = datetime.now()\n",
        "\n",
        "folder = f\"{MY_DRIVE}/Overview-Ind-Study/Overview/models/{now}\"\n",
        "\n",
        "os.makedirs(folder, exist_ok=False)\n",
        "\n",
        "model.save(f\"{folder}/{model_name}.h5\")"
      ]
    },
    {
      "cell_type": "code",
      "execution_count": 15,
      "metadata": {
        "colab": {
          "base_uri": "https://localhost:8080/"
        },
        "id": "gphW_ytgQa33",
        "outputId": "ba019e28-e900-4e7e-a912-49fb0613af37"
      },
      "outputs": [
        {
          "output_type": "stream",
          "name": "stdout",
          "text": [
            "1/1 [==============================] - 10s 10s/step - loss: 0.2364 - mean_squared_error: 0.0680\n"
          ]
        }
      ],
      "source": [
        "# extract test images\n",
        "X_test, y_test = extract_data_testing(X_TEST_PATH, Y_TEST_PATH)\n",
        "\n",
        "# evaluate model on test images\n",
        "score = model.evaluate(X_test, y_test)\n",
        "\n",
        "# test_labels_dataset = tf.keras.preprocessing.image_dataset_from_directory(Y_TEST_PATH, label_mode=None, image_size=(512, 512), shuffle=False)\n",
        "# test_labels_dataset = test_labels_dataset.map(process)\n",
        "\n",
        "# test_dataset = tf.keras.preprocessing.image_dataset_from_directory(X_TEST_PATH, label_mode = None, image_size=(512, 512), shuffle=False)\n",
        "# test_dataset = test_dataset.map(process)\n",
        "\n",
        "# # zip x_train, y_train (input image and desired output image) into a tuple of datasets\n",
        "# # this will be the input\n",
        "# zipped_test_dataset = tf.data.Dataset.zip((test_dataset, test_labels_dataset))\n",
        "# score = model.evaluate(zipped_test_dataset)"
      ]
    },
    {
      "cell_type": "code",
      "execution_count": 16,
      "metadata": {
        "colab": {
          "base_uri": "https://localhost:8080/"
        },
        "id": "Iq2PTYAK2aLb",
        "outputId": "4e61cf5c-c2f9-4450-da67-24900055329e"
      },
      "outputs": [
        {
          "output_type": "stream",
          "name": "stdout",
          "text": [
            "[0.23642224073410034, 0.06803842633962631]\n"
          ]
        }
      ],
      "source": [
        "print(score)"
      ]
    },
    {
      "cell_type": "code",
      "execution_count": 17,
      "metadata": {
        "colab": {
          "base_uri": "https://localhost:8080/"
        },
        "id": "-9eR9kGoz-5S",
        "outputId": "58e1f470-fb57-4087-8813-28701088ce39"
      },
      "outputs": [
        {
          "output_type": "stream",
          "name": "stdout",
          "text": [
            "scoring...\n",
            "['loss', 'mean_squared_error'] [0.23642224073410034, 0.06803842633962631]\n",
            "1/1 [==============================] - 0s 199ms/step\n",
            "<function vgg_loss at 0x78717e2cc790>-16-100-0.0003-early-stop\n"
          ]
        }
      ],
      "source": [
        "import matplotlib.pyplot as plt\n",
        "%matplotlib inline\n",
        "from google.colab.patches import cv2_imshow\n",
        "from datetime import datetime\n",
        "\n",
        "print(\"scoring...\")\n",
        "print (model.metrics_names, score)\n",
        "X_test, y_test = extract_data_testing(X_TEST_PATH, Y_TEST_PATH)\n",
        "\n",
        "# make prediction n\n",
        "out_array = model.predict(X_test)\n",
        "out_array = out_array.astype(np.float32) * 255.\n",
        "out_array = np.clip(out_array, 0, 255).astype('uint8')\n",
        "\n",
        "\n",
        "num, rows, cols, channels = out_array.shape\n",
        "print(model_name)\n",
        "for n in range(num):\n",
        "    filename = str(n) + \".jpg\"\n",
        "    # save prediction\n",
        "    out_img = Image.fromarray(out_array[n]).convert('L') # convert to black and white\n",
        "    # ts = str(datetime.now())\n",
        "    out_img.save(f\"{folder}/{model_name}_{filename}\", format=\"JPEG\")\n",
        "    # out_img.show()"
      ]
    },
    {
      "cell_type": "code",
      "execution_count": 18,
      "metadata": {
        "colab": {
          "base_uri": "https://localhost:8080/",
          "height": 176
        },
        "id": "k6Er8WKb2ITx",
        "outputId": "c2b2ea4b-219f-45f9-9501-8d5de616048b"
      },
      "outputs": [
        {
          "output_type": "error",
          "ename": "NameError",
          "evalue": "ignored",
          "traceback": [
            "\u001b[0;31m---------------------------------------------------------------------------\u001b[0m",
            "\u001b[0;31mNameError\u001b[0m                                 Traceback (most recent call last)",
            "\u001b[0;32m<ipython-input-18-820f85b80291>\u001b[0m in \u001b[0;36m<cell line: 1>\u001b[0;34m()\u001b[0m\n\u001b[0;32m----> 1\u001b[0;31m \u001b[0mprint\u001b[0m\u001b[0;34m(\u001b[0m\u001b[0mhistory\u001b[0m\u001b[0;34m.\u001b[0m\u001b[0mhistory\u001b[0m\u001b[0;34m)\u001b[0m\u001b[0;34m\u001b[0m\u001b[0;34m\u001b[0m\u001b[0m\n\u001b[0m",
            "\u001b[0;31mNameError\u001b[0m: name 'history' is not defined"
          ]
        }
      ],
      "source": [
        "print(history.history)"
      ]
    },
    {
      "cell_type": "code",
      "execution_count": null,
      "metadata": {
        "colab": {
          "base_uri": "https://localhost:8080/",
          "height": 927
        },
        "id": "N02815pARg4b",
        "outputId": "e6c8a8a4-8db7-4871-c855-f3f06c2b8828"
      },
      "outputs": [
        {
          "data": {
            "image/png": "[encoded data removed]",
            "text/plain": [
              "<Figure size 640x480 with 1 Axes>"
            ]
          },
          "metadata": {},
          "output_type": "display_data"
        },
        {
          "data": {
            "image/png": "[encoded data removed]",
            "text/plain": [
              "<Figure size 640x480 with 1 Axes>"
            ]
          },
          "metadata": {},
          "output_type": "display_data"
        }
      ],
      "source": [
        "# Plot training & validation accuracy values\n",
        "plt.plot(history.history['mean_squared_error'])\n",
        "plt.plot(history.history['val_mean_squared_error'])\n",
        "plt.title('Model mse')\n",
        "plt.ylabel('mse')\n",
        "plt.xlabel('Epoch')\n",
        "plt.legend(['Train', 'Val'], loc='upper left')\n",
        "plt.show()\n",
        "\n",
        "# Plot training & validation loss values\n",
        "plt.plot(history.history['loss'])\n",
        "plt.plot(history.history['val_loss'])\n",
        "plt.title('Model loss')\n",
        "plt.ylabel('Loss')\n",
        "plt.xlabel('Epoch')\n",
        "plt.legend(['Train', 'Val'], loc='upper left')\n",
        "plt.show()"
      ]
    },
    {
      "cell_type": "markdown",
      "metadata": {
        "id": "x_YOKn6mnscJ"
      },
      "source": [
        "-------------------------------------------\n",
        "VGG_LOSS\n",
        "-------------------------------------------"
      ]
    },
    {
      "cell_type": "code",
      "execution_count": 19,
      "metadata": {
        "colab": {
          "base_uri": "https://localhost:8080/"
        },
        "id": "zcYj9FnnoeCU",
        "outputId": "f355d62b-a458-4862-f4d6-608f318e13e7"
      },
      "outputs": [
        {
          "output_type": "stream",
          "name": "stdout",
          "text": [
            "Drive already mounted at /content/drive; to attempt to forcibly remount, call drive.mount(\"/content/drive\", force_remount=True).\n",
            "[Errno 2] No such file or directory: 'MY_DRIVE'\n",
            "/content\n",
            "/content/drive/MyDrive/Overview-Ind-Study/Overview/data/x_train/\n",
            "/content/drive/MyDrive/Overview-Ind-Study/Overview/data/y_train/\n",
            "2420\n",
            "Found 2419 files belonging to 1 classes.\n",
            "Found 2419 files belonging to 1 classes.\n"
          ]
        },
        {
          "output_type": "stream",
          "name": "stderr",
          "text": [
            "WARNING:absl:`lr` is deprecated in Keras optimizer, please use `learning_rate` or use the legacy optimizer, e.g.,tf.keras.optimizers.legacy.Adam.\n"
          ]
        },
        {
          "output_type": "stream",
          "name": "stdout",
          "text": [
            "Epoch 1/10\n",
            "76/76 [==============================] - 212s 2s/step - loss: 55.5043 - mean_squared_error: 0.0932\n",
            "Epoch 2/10\n",
            "76/76 [==============================] - 17s 228ms/step - loss: 51.9420 - mean_squared_error: 0.0776\n",
            "Epoch 3/10\n",
            "76/76 [==============================] - 17s 227ms/step - loss: 40.4662 - mean_squared_error: 0.0792\n",
            "Epoch 4/10\n",
            "76/76 [==============================] - 17s 227ms/step - loss: 34.3581 - mean_squared_error: 0.0847\n",
            "Epoch 5/10\n",
            "76/76 [==============================] - 18s 230ms/step - loss: 31.7245 - mean_squared_error: 0.0797\n",
            "Epoch 6/10\n",
            "76/76 [==============================] - 17s 228ms/step - loss: 30.1242 - mean_squared_error: 0.0787\n",
            "Epoch 7/10\n",
            "76/76 [==============================] - 17s 228ms/step - loss: 29.2008 - mean_squared_error: 0.0770\n",
            "Epoch 8/10\n",
            "76/76 [==============================] - 17s 228ms/step - loss: 27.0747 - mean_squared_error: 0.0721\n",
            "Epoch 9/10\n",
            "76/76 [==============================] - 17s 227ms/step - loss: 25.8588 - mean_squared_error: 0.0670\n",
            "Epoch 10/10\n",
            "76/76 [==============================] - 17s 228ms/step - loss: 24.5022 - mean_squared_error: 0.0644\n"
          ]
        }
      ],
      "source": [
        "from google.colab import drive\n",
        "drive.mount('/content/drive')\n",
        "MY_DRIVE = '/content/drive/MyDrive'\n",
        "%cd MY_DRIVE\n",
        "\n",
        "X_TRAIN_PATH = f\"{MY_DRIVE}/Overview-Ind-Study/Overview/data/x_train/\"\n",
        "Y_TRAIN_PATH = f\"{MY_DRIVE}/Overview-Ind-Study/Overview/data/y_train/\"\n",
        "\n",
        "# find the number of filenames that are in both, use this value as first\n",
        "# dimension of training/test tensors, i.e. number of training instances\n",
        "CMD_RESULT = !find $X_TRAIN_PATH $Y_TRAIN_PATH -printf '%P\\n' | sort | uniq -d | wc -l\n",
        "NUM_TRAINING_INSTANCES = int(CMD_RESULT[0])\n",
        "\n",
        "print(X_TRAIN_PATH)\n",
        "print(Y_TRAIN_PATH)\n",
        "print(NUM_TRAINING_INSTANCES)\n",
        "# assert NUM_TRAINING_INSTANCES > 500\n",
        "\n",
        "####################\n",
        "# 1. Dataset Loading\n",
        "####################\n",
        "import tensorflow as tf\n",
        "from tensorflow.keras.preprocessing.image import img_to_array, load_img\n",
        "from tensorflow.keras.applications.vgg19 import preprocess_input\n",
        "import numpy as np\n",
        "\n",
        "def process(image):\n",
        "    img = tf.cast(image, tf.float32) / 255.0\n",
        "    return img\n",
        "\n",
        "labels_dataset = tf.keras.preprocessing.image_dataset_from_directory(Y_TRAIN_PATH, label_mode=None, image_size=(512, 512), shuffle=False)\n",
        "labels_dataset = labels_dataset.map(process)\n",
        "\n",
        "train_dataset = tf.keras.preprocessing.image_dataset_from_directory(X_TRAIN_PATH, label_mode=None, image_size=(512, 512), shuffle=False)\n",
        "train_dataset = train_dataset.map(process)\n",
        "\n",
        "zipped_train_dataset = tf.data.Dataset.zip((train_dataset, labels_dataset))\n",
        "\n",
        "\n",
        "############################\n",
        "# 2. VGG-based Loss Function\n",
        "############################\n",
        "from tensorflow.keras.applications import VGG19\n",
        "\n",
        "base_model = VGG19(weights='imagenet', include_top=False, input_shape=(224, 224, 3))\n",
        "base_model.trainable = False\n",
        "\n",
        "vgg_model = tf.keras.models.Model(inputs=base_model.input, outputs=base_model.get_layer('block3_conv4').output, name=\"VGG19_Model\")\n",
        "\n",
        "def vgg_loss(y_true, y_pred):\n",
        "    y_true_resized = tf.image.resize(y_true, (224, 224))\n",
        "    y_pred_resized = tf.image.resize(y_pred, (224, 224))\n",
        "    return tf.keras.losses.MSE(vgg_model(y_true_resized), vgg_model(y_pred_resized))\n",
        "\n",
        "\n",
        "\n",
        "###########################\n",
        "# 3. U-Net Model Definition\n",
        "###########################\n",
        "from tensorflow.keras.layers import Input, Conv2D, MaxPooling2D, UpSampling2D, Concatenate\n",
        "from tensorflow.keras.models import Model\n",
        "import tensorflow.keras.backend as K\n",
        "\n",
        "LEARNING_RATE = 0.0003\n",
        "\n",
        "# Your model definition here (unchanged)\n",
        "def generate_model():\n",
        "  filters = [64, 128, 256, 512, 1024]\n",
        "\n",
        "  poolsize = 2 # (2,2)\n",
        "  kernelsize = 3 # (3,3)\n",
        "  x = Input(shape=(512,512,3))\n",
        "  a = Convolution2D(filters[0], kernelsize, activation=\"relu\", padding=\"same\")(x) ### save copy for later, use in upsampling (resnet/symmetric skip connection)\n",
        "  b = MaxPooling2D(pool_size=poolsize, strides=2)(a)\n",
        "  c = Convolution2D(filters[1], kernelsize, activation=\"relu\", padding=\"same\")(b)\n",
        "  d = MaxPooling2D(pool_size=poolsize, strides=2)(c)\n",
        "  e = Convolution2D(filters[2], kernelsize, activation=\"relu\", padding=\"same\")(d)\n",
        "  f = MaxPooling2D(pool_size=poolsize, strides=2)(e)\n",
        "  g = Convolution2D(filters[3], kernelsize, activation=\"relu\", padding=\"same\")(f)\n",
        "  h = MaxPooling2D(pool_size=poolsize, strides=2)(g)\n",
        "  i = Convolution2D(filters[4], kernelsize, activation=\"relu\", padding=\"same\")(h)\n",
        "  j = UpSampling2D(size=poolsize, interpolation='nearest')(i)\n",
        "  j1 = _shortcut(g, j) # combine the saved convolutional layer and upsampling\n",
        "  k = Convolution2D(3, kernelsize, activation=\"relu\", padding=\"same\")(j1)\n",
        "  l = UpSampling2D(size=poolsize, interpolation='nearest')(k)\n",
        "  l1 = _shortcut(e, l)\n",
        "  m = Convolution2D(3, kernelsize, activation=\"relu\", padding=\"same\")(l1)\n",
        "  n = UpSampling2D(size=poolsize, interpolation='nearest')(m)\n",
        "  l1 = _shortcut(c, n)\n",
        "  o = Convolution2D(3, kernelsize, activation=\"relu\", padding=\"same\")(n)\n",
        "  p = UpSampling2D(size=poolsize, interpolation='nearest')(o)\n",
        "  p1 = _shortcut(a, p)\n",
        "  q = Convolution2D(3, kernelsize, activation=\"relu\", padding=\"same\")(p1)\n",
        "  r = Convolution2D(3, poolsize, activation=\"linear\", padding=\"same\")(q)\n",
        "  model = Model(inputs=x, outputs=r, name=\"U_Net_Model\")\n",
        "  adam = tf.keras.optimizers.Adam(lr=LEARNING_RATE)\n",
        "  model.compile(optimizer=adam, loss=vgg_loss, metrics=[tf.keras.metrics.MeanSquaredError()])\n",
        "  return model\n",
        "\n",
        "model = generate_model()\n",
        "\n",
        "\n",
        "####################\n",
        "# 4. Train the Model\n",
        "####################\n",
        "BATCH_SIZE = 16\n",
        "EPOCHS = 10\n",
        "\n",
        "history = model.fit(zipped_train_dataset, batch_size=BATCH_SIZE, epochs=EPOCHS, shuffle=True)"
      ]
    },
    {
      "cell_type": "code",
      "execution_count": 20,
      "metadata": {
        "id": "4tnuAoGkuPoz"
      },
      "outputs": [],
      "source": [
        "# Create folder using timestamp, save model and output images there\n",
        "now = datetime.now()\n",
        "\n",
        "folder = f\"{MY_DRIVE}/Overview-Ind-Study/Overview/models/{now}\"\n",
        "\n",
        "os.makedirs(folder, exist_ok=False)\n",
        "\n",
        "model.save(f\"{folder}/{model_name}.h5\")"
      ]
    },
    {
      "cell_type": "code",
      "execution_count": 21,
      "metadata": {
        "colab": {
          "base_uri": "https://localhost:8080/"
        },
        "id": "c5_txBgkuYkO",
        "outputId": "2336561a-c239-4f22-ecc4-034f88da2bec"
      },
      "outputs": [
        {
          "output_type": "stream",
          "name": "stdout",
          "text": [
            "path exists: \n",
            "path exists: \n",
            "path exists: \n",
            "path exists: \n",
            "path exists: \n",
            "path exists: \n",
            "path exists: \n",
            "path exists: \n",
            "path exists: \n",
            "path exists: \n",
            "path exists: \n",
            "path exists: \n",
            "1/1 [==============================] - 1s 1s/step - loss: 27.4034 - mean_squared_error: 0.0506\n"
          ]
        }
      ],
      "source": [
        "# extract test images\n",
        "X_TEST_PATH = f\"{MY_DRIVE}/Overview-Ind-Study/Overview/data/x_test/\"\n",
        "Y_TEST_PATH = f\"{MY_DRIVE}/Overview-Ind-Study/Overview/data/y_test/\"\n",
        "def extract_data_testing(xPath, yPath):\n",
        "  X, y = np.zeros((12,512,512,3)), np.zeros((12,512,512,3))\n",
        "\n",
        "  index = 0\n",
        "  for file in os.listdir(xPath):\n",
        "    if path.exists(xPath + file):\n",
        "        print('path exists: ')\n",
        "        img = Image.open(xPath + file).convert('RGB')\n",
        "        imgArray = np.asarray(img, dtype='uint8')\n",
        "        imgArray =  imgArray / 255.0\n",
        "        X[index] = imgArray\n",
        "\n",
        "        img = Image.open(yPath + file).convert('RGB')\n",
        "        imgArray = np.asarray(img, dtype='uint8')\n",
        "        imgArray =  imgArray / 255.0\n",
        "        y[index] = imgArray\n",
        "\n",
        "        index += 1\n",
        "  return X, y\n",
        "X_test, y_test = extract_data_testing(X_TEST_PATH, Y_TEST_PATH)\n",
        "\n",
        "# evaluate model on test images\n",
        "score = model.evaluate(X_test, y_test)"
      ]
    },
    {
      "cell_type": "code",
      "execution_count": 23,
      "metadata": {
        "colab": {
          "base_uri": "https://localhost:8080/",
          "height": 927
        },
        "id": "g_-KliU-uwTb",
        "outputId": "7d7ce11b-ba96-4e37-89ca-a13c24c70c1b"
      },
      "outputs": [
        {
          "output_type": "display_data",
          "data": {
            "text/plain": [
              "<Figure size 640x480 with 1 Axes>"
            ],
            "image/png": "[encoded data removed]"
          },
          "metadata": {}
        },
        {
          "output_type": "display_data",
          "data": {
            "text/plain": [
              "<Figure size 640x480 with 1 Axes>"
            ],
            "image/png": "[encoded data removed]"
          },
          "metadata": {}
        }
      ],
      "source": [
        "# Plot training & validation accuracy values\n",
        "plt.plot(history.history['loss'])\n",
        "plt.plot(history.history['mean_squared_error'])\n",
        "plt.title('Model mse')\n",
        "plt.ylabel('mse')\n",
        "plt.xlabel('Epoch')\n",
        "plt.legend(['Train', 'Val'], loc='upper left')\n",
        "plt.show()\n",
        "\n",
        "# Plot training & validation loss values\n",
        "plt.plot(history.history['loss'])\n",
        "# plt.plot(history.history['val_loss'])\n",
        "plt.title('Model loss')\n",
        "plt.ylabel('Loss')\n",
        "plt.xlabel('Epoch')\n",
        "plt.legend(['Train', 'Val'], loc='upper left')\n",
        "plt.show()\n"
      ]
    },
    {
      "cell_type": "code",
      "execution_count": 24,
      "metadata": {
        "colab": {
          "base_uri": "https://localhost:8080/"
        },
        "id": "df2FraE8rSLu",
        "outputId": "52f7771d-cf04-43ae-e9ea-f93c2b643837"
      },
      "outputs": [
        {
          "output_type": "stream",
          "name": "stdout",
          "text": [
            "scoring...\n",
            "['loss', 'mean_squared_error'] [27.4034423828125, 0.05058453977108002]\n",
            "1/1 [==============================] - 0s 160ms/step\n",
            "<function vgg_loss at 0x78717e2cc790>-16-100-0.0003-early-stop\n"
          ]
        }
      ],
      "source": [
        "##################\n",
        "# 5. Run Inference\n",
        "##################\n",
        "import matplotlib.pyplot as plt\n",
        "%matplotlib inline\n",
        "from google.colab.patches import cv2_imshow\n",
        "from datetime import datetime\n",
        "print(\"scoring...\")\n",
        "print (model.metrics_names, score)\n",
        "\n",
        "def predict(image_path):\n",
        "    img = load_img(image_path, target_size=(512, 512))\n",
        "    img_array = img_to_array(img)\n",
        "    img_array = img_array / 255.0\n",
        "    img_array = np.expand_dims(img_array, axis=0)\n",
        "\n",
        "    prediction = model.predict(img_array)\n",
        "\n",
        "    # Convert prediction back to image\n",
        "    predicted_img = tf.squeeze(prediction) * 255.0\n",
        "    return predicted_img.numpy().astype(np.uint8)\n",
        "\n",
        "\n",
        "# make prediction n\n",
        "out_array = model.predict(X_test)\n",
        "out_array = out_array.astype(np.float32) * 255.\n",
        "out_array = np.clip(out_array, 0, 255).astype('uint8')\n",
        "\n",
        "\n",
        "num, rows, cols, channels = out_array.shape\n",
        "print(model_name)\n",
        "for n in range(num):\n",
        "    filename = str(n) + \".jpg\"\n",
        "    # save prediction\n",
        "    out_img = Image.fromarray(out_array[n]).convert('L') # convert to black and white\n",
        "    # ts = str(datetime.now())\n",
        "    out_img.save(f\"{folder}/{model_name}_{filename}\", format=\"JPEG\")\n",
        "    out_img.show()"
      ]
    },
    {
      "cell_type": "code",
      "source": [],
      "metadata": {
        "id": "u6jKE-mDcU2K"
      },
      "execution_count": null,
      "outputs": []
    }
  ],
  "metadata": {
    "accelerator": "GPU",
    "colab": {
      "machine_shape": "hm",
      "provenance": [],
      "gpuClass": "premium",
      "include_colab_link": true
    },
    "gpuClass": "premium",
    "kernelspec": {
      "display_name": "Python 3",
      "name": "python3"
    }
  },
  "nbformat": 4,
  "nbformat_minor": 0
}